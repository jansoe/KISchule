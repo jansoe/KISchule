{
  "nbformat": 4,
  "nbformat_minor": 0,
  "metadata": {
    "colab": {
      "name": "A6_0_jan.ipynb",
      "provenance": [],
      "collapsed_sections": [],
      "include_colab_link": true
    },
    "kernelspec": {
      "name": "python3",
      "display_name": "Python 3"
    },
    "accelerator": "GPU"
  },
  "cells": [
    {
      "cell_type": "markdown",
      "metadata": {
        "id": "view-in-github",
        "colab_type": "text"
      },
      "source": [
        "<a href=\"https://colab.research.google.com/github/jansoe/KISchule/blob/main/A6_0_jan.ipynb\" target=\"_parent\"><img src=\"https://colab.research.google.com/assets/colab-badge.svg\" alt=\"Open In Colab\"/></a>"
      ]
    },
    {
      "cell_type": "markdown",
      "metadata": {
        "id": "RX02S6Aq8OxF"
      },
      "source": [
        "# 6. Wortvektoren - Teil 1"
      ]
    },
    {
      "cell_type": "markdown",
      "metadata": {
        "id": "utkMK7MykP-v"
      },
      "source": [
        "## 6.0 Word2Vec: Numerische Repräsentation von Wörten und Wortähnlichkeiten\n",
        "\n",
        "Die Nachteile von Verfahren wie `TFIDF` liegen auf der Hand: Eine simple Häufigkeitsanalyse von Wörtern in Texten bildet die vielen kontextabhängigen Aspekte von Wörtern nicht mit ab.\n",
        "\n",
        "Eine Technik, mit der Kontextabhängigkeit automatisiert erlernt werden kann, nennt sich `Word2Vec`. Hierbei wird eine Encoder-Decoder-Architektur verwendet, um ähnlich einem Autoencoder eine abstrakte Repräsentation in Form sogenannter Wortvektoren zu erlernen. Dieser komprimierte Code entspricht dem uns bekannten latenten Raum, wird jedoch im Zusammenhang von Word2Vec als `Embedding` bezeichnet.\n",
        "\n",
        "Je nach Art des Trainings versucht der Decoder anschließend auf Basis des Embeddings bzw. der Wortvektoren vom Kontext auf einzelne Wörter oder von einzelnen Wörtern auf den Kontext zu schließen.\n",
        "\n",
        "Im Rahmen des vorliegenden Notebooks A6_0 werden wir uns bereits vorgegebene Embeddings anschauen, also ein bereits trainiertes Modell verwenden. In A6_1 zeigen wir Ihnen, wie Sie anhand von Textdaten ein Word2Vec-Modell tranieren können. Abschließend werfen wir innerhalb von A6_2 bereits einen kleinen Blick auf ein Transformer-Modell, welches auf Basis von Attention-Modulen wesentlich komplexere kontextabhängige Zusammenhänge abbilden kann als ein Word2Vec-Modell. \n",
        "\n",
        "Das Verfahren ist wie gehabt:\n",
        "- Erstellen Sie eine Kopie dieses Notebooks in ihrem Google Drive (vorgeschlagene Umbenennung: \"A6_0 - Vorname, Nachname\")\n",
        "- Editieren Sie die Text- und Codezellen.\n",
        "- Schicken Sie uns einen Freigabelink zum Kommentieren Ihres Notebooks an"
      ]
    },
    {
      "cell_type": "code",
      "metadata": {
        "id": "c6sSUrDuDXkX"
      },
      "source": [
        "import matplotlib.pyplot as plt\n",
        "import nltk\n",
        "import gensim\n",
        "from pprint import pprint"
      ],
      "execution_count": null,
      "outputs": []
    },
    {
      "cell_type": "markdown",
      "metadata": {
        "id": "rF2NZKcVpZhV"
      },
      "source": [
        "Die Bibliothek `gensim` ist etwas veraltet und gibt eine Menge Warnungen aus. Wir können diese aber erstmal getrost ignorieren und deren Ausgabe wie folgt verhindern."
      ]
    },
    {
      "cell_type": "code",
      "metadata": {
        "id": "iO6qkY07NMU-"
      },
      "source": [
        "import warnings\n",
        "warnings.filterwarnings('ignore')"
      ],
      "execution_count": null,
      "outputs": []
    },
    {
      "cell_type": "markdown",
      "metadata": {
        "id": "UWH2te0GpahO"
      },
      "source": [
        "Mit dem `gensim.downloader` können wir vortrainierte Wortvektoren herunterladen."
      ]
    },
    {
      "cell_type": "code",
      "metadata": {
        "id": "0KspB4YAtT0t"
      },
      "source": [
        "import gensim.downloader as api\n",
        "# api.info()"
      ],
      "execution_count": null,
      "outputs": []
    },
    {
      "cell_type": "markdown",
      "metadata": {
        "id": "T_Kihqdxpf3z"
      },
      "source": [
        "Im Rahmen dieses Notebooks verwenden wir das Modell `glove-wiki-gigaword-300`.\n",
        "- GloVe ist eine weitere Methode zum Erlernen von Wortvektoren, die zwar nicht auf neuronalen Netzen beruht und daher auch nicht der Kategorie Word2Vec zugeordnet wird. Allerdings liefert GloVe sehr ähnliche Ergebnisse wie die Word2Vec-Varianten CBOW und skip gram.\n",
        "- Der große Vorteil dieses konkreten Modells ist der zugehörige Trainingsdatensatz, der sowohl die komplette englischsprachige Wikipedia als auch einen umfangreichen Nachrichtenkorpus beinhaltet (Gigaword: https://catalog.ldc.upenn.edu/LDC2011T07), weswegen wir dieses Modell hier verwenden.\n",
        "- Die Zahl 300 gibt an, dass jedes Wort als ein Vektor der Länge 300 repräsentiert wird."
      ]
    },
    {
      "cell_type": "code",
      "metadata": {
        "id": "ddSifIOVXLGS"
      },
      "source": [
        "model = api.load('glove-wiki-gigaword-300')"
      ],
      "execution_count": null,
      "outputs": []
    },
    {
      "cell_type": "markdown",
      "metadata": {
        "id": "E_uQgFLEZaJ1"
      },
      "source": [
        "### Wortähnlichkeiten\n",
        "\n",
        "Ein vortrainiertes Word2Vec-Modell kann zu jedem Begriff, der Teil des Korpus ist, diejenigen Wörter aus dem Korpus heraussuchen, die im latenten Raum am nahesten liegen und somit eine verwandte Bedeutung aufweisen:"
      ]
    },
    {
      "cell_type": "code",
      "metadata": {
        "id": "KU7-j75qtt9C",
        "colab": {
          "base_uri": "https://localhost:8080/",
          "height": 191
        },
        "outputId": "3528bd6f-8fc9-4879-a06d-2cf48a602002"
      },
      "source": [
        "model.wv.most_similar('car')"
      ],
      "execution_count": null,
      "outputs": [
        {
          "output_type": "execute_result",
          "data": {
            "text/plain": [
              "[('cars', 0.7827162742614746),\n",
              " ('vehicle', 0.7655367851257324),\n",
              " ('truck', 0.7350621819496155),\n",
              " ('driver', 0.7114784121513367),\n",
              " ('driving', 0.6442224979400635),\n",
              " ('vehicles', 0.6328004002571106),\n",
              " ('motorcycle', 0.6022512912750244),\n",
              " ('automobile', 0.595572829246521),\n",
              " ('parked', 0.5910030603408813),\n",
              " ('drivers', 0.5778358578681946)]"
            ]
          },
          "metadata": {
            "tags": []
          },
          "execution_count": 7
        }
      ]
    },
    {
      "cell_type": "code",
      "metadata": {
        "id": "7ZxJkZdzD5PB",
        "colab": {
          "base_uri": "https://localhost:8080/",
          "height": 191
        },
        "outputId": "934caf36-0f83-4544-f040-ffa246e56a02"
      },
      "source": [
        "model.wv.most_similar('shoe')"
      ],
      "execution_count": null,
      "outputs": [
        {
          "output_type": "execute_result",
          "data": {
            "text/plain": [
              "[('shoes', 0.7242045998573303),\n",
              " ('footwear', 0.5965993404388428),\n",
              " ('sneaker', 0.5847950577735901),\n",
              " ('sneakers', 0.5435681343078613),\n",
              " ('clothing', 0.5319083333015442),\n",
              " ('leather', 0.5276093482971191),\n",
              " ('apparel', 0.5112749338150024),\n",
              " ('boots', 0.4974576234817505),\n",
              " ('garment', 0.47937023639678955),\n",
              " ('nike', 0.47257572412490845)]"
            ]
          },
          "metadata": {
            "tags": []
          },
          "execution_count": 11
        }
      ]
    },
    {
      "cell_type": "markdown",
      "metadata": {
        "id": "QuaOyU0faHnV"
      },
      "source": [
        "### 6.0.0 Ähnliche Begriffe suchen\n",
        "Lassen Sie sich zu zwei Begriffen Ihrer Wahl jeweils die drei ähnlichsten Wörter anzeigen. Ist für Sie in beiden Fällen der gemeinsame Kontext aller Wortnachbarn ersichtlich?\n",
        "\n",
        "---\n",
        "\n",
        "**Anmerkungen**\n",
        "\n",
        "Der Parameter `topn` legt die maximale Anzahl an Wörtern fest, die von der Methode `most_similar()` zurückgegeben werden (siehe unten)."
      ]
    },
    {
      "cell_type": "code",
      "metadata": {
        "id": "U3i-P2GTB-8v"
      },
      "source": [
        ""
      ],
      "execution_count": null,
      "outputs": []
    },
    {
      "cell_type": "markdown",
      "metadata": {
        "id": "IJVn3PIFgG1F"
      },
      "source": [
        "### Visualisierung der Wortverwandtschaft mit TSNE\n",
        "Zuerst visualisieren wir die Verwandtschaftsbeziehungen der Wortvektoren mit TSNE. Dazu lassen wir uns die 2000 Wörter heraussuchen, die dem Wort `intelligence` am nahesten stehen, und erstellen uns eine Liste von deren Vektoren."
      ]
    },
    {
      "cell_type": "code",
      "metadata": {
        "id": "iw1nuS2rY6E4"
      },
      "source": [
        "top_similarity = model.wv.most_similar(positive=['computer'], topn=2000)\n",
        "selected_words = [word for word, similarity in top_similarity]\n",
        "vectors = [model.wv.word_vec(word, use_norm=True) for word in selected_words]"
      ],
      "execution_count": null,
      "outputs": []
    },
    {
      "cell_type": "markdown",
      "metadata": {
        "id": "gu9AAyCE6xrp"
      },
      "source": [
        "Jetzt können wir wieder TSNE verwenden, um die hochdimensionalen Vektoren in einem zweidimensionalen Raum zu platzieren und dabei deren lokale Verwandtschaftsbeziehungen beizubehalten."
      ]
    },
    {
      "cell_type": "code",
      "metadata": {
        "id": "_qr3uySrY_S0",
        "colab": {
          "base_uri": "https://localhost:8080/",
          "height": 542
        },
        "outputId": "306c6e56-01e9-4f7b-90d7-80724eacd8e5"
      },
      "source": [
        "import plotly.express as px\n",
        "import pandas as pd\n",
        "from sklearn.manifold import TSNE\n",
        "\n",
        "tsne = TSNE(\n",
        "    n_components=2,\n",
        "    perplexity = 5\n",
        ")\n",
        "vectors_2D = tsne.fit_transform(vectors)\n",
        "\n",
        "to_plot = pd.DataFrame(vectors_2D, columns=['x', 'y'])\n",
        "to_plot['labels'] = selected_words\n",
        "\n",
        "px.scatter(to_plot, x='x', y='y', hover_name='labels')"
      ],
      "execution_count": null,
      "outputs": [
        {
          "output_type": "display_data",
          "data": {
            "text/html": [
              "<html>\n",
              "<head><meta charset=\"utf-8\" /></head>\n",
              "<body>\n",
              "    <div>\n",
              "            <script src=\"https://cdnjs.cloudflare.com/ajax/libs/mathjax/2.7.5/MathJax.js?config=TeX-AMS-MML_SVG\"></script><script type=\"text/javascript\">if (window.MathJax) {MathJax.Hub.Config({SVG: {font: \"STIX-Web\"}});}</script>\n",
              "                <script type=\"text/javascript\">window.PlotlyConfig = {MathJaxConfig: 'local'};</script>\n",
              "        <script src=\"https://cdn.plot.ly/plotly-latest.min.js\"></script>    \n",
              "            <div id=\"e4dd5b6e-ef73-4217-89e8-5c4e62e525ec\" class=\"plotly-graph-div\" style=\"height:525px; width:100%;\"></div>\n",
              "            <script type=\"text/javascript\">\n",
              "                \n",
              "                    window.PLOTLYENV=window.PLOTLYENV || {};\n",
              "                    \n",
              "                if (document.getElementById(\"e4dd5b6e-ef73-4217-89e8-5c4e62e525ec\")) {\n",
              "                    Plotly.newPlot(\n",
              "                        'e4dd5b6e-ef73-4217-89e8-5c4e62e525ec',\n",
              "                        [{\"hoverlabel\": {\"namelength\": 0}, \"hovertemplate\": \"<b>%{hovertext}</b><br><br>x=%{x}<br>y=%{y}\", \"hovertext\": [\"computers\", \"software\", \"pc\", \"technology\", \"computing\", \"laptop\", \"internet\", \"ibm\", \"systems\", \"hardware\", \"electronic\", \"desktop\", \"microsoft\", \"user\", \"machines\", \"digital\", \"users\", \"data\", \"electronics\", \"programmer\", \"pcs\", \"web\", \"devices\", \"database\", \"online\", \"networking\", \"intel\", \"information\", \"macintosh\", \"video\", \"mainframe\", \"computerized\", \"programmers\", \"servers\", \"multimedia\", \"phones\", \"tech\", \"lab\", \"graphics\", \"apple\", \"screen\", \"phone\", \"equipment\", \"hackers\", \"server\", \"workstations\", \"applications\", \"machine\", \"system\", \"printer\", \"virtual\", \"audio\", \"instance\", \"makers\", \"technologies\", \"compaq\", \"interactive\", \"device\", \"programs\", \"files\", \"disk\", \"science\", \"engineering\", \"networks\", \"keyboard\", \"maker\", \"databases\", \"laptops\", \"chip\", \"screens\", \"rom\", \"labs\", \"business\", \"portable\", \"windows\", \"mobile\", \"handheld\", \"using\", \"companies\", \"printers\", \"wireless\", \"sophisticated\", \"modem\", \"network\", \"advanced\", \"hewlett\", \"tools\", \"uses\", \"packard\", \"hacker\", \"processing\", \"download\", \"interface\", \"lets\", \"chips\", \"components\", \"simulation\", \"memory\", \"personal\", \"dell\", \"electrical\", \"downloaded\", \"communications\", \"microprocessors\", \"communication\", \"disks\", \"peripherals\", \"application\", \"company\", \"google\", \"example\", \"smart\", \"copy\", \"microprocessor\", \"industry\", \"math\", \"allows\", \"research\", \"technician\", \"corp.\", \"mechanical\", \"telephone\", \"gaming\", \"programmed\", \"capabilities\", \"processors\", \"developed\", \"monitor\", \"program\", \"robotics\", \"card\", \"processor\", \"telecommunications\", \"programming\", \"modems\", \"cards\", \"cyber\", \"technical\", \"related\", \"use\", \"animation\", \"enabled\", \"corporate\", \"drives\", \"access\", \"automated\", \"your\", \"product\", \"knowledge\", \"mouse\", \"products\", \"space\", \"integrated\", \"compatible\", \"silicon\", \"learning\", \"camera\", \"consumer\", \"embedded\", \"laboratory\", \"browser\", \"tool\", \"gadgets\", \"storage\", \"based\", \"cyberspace\", \"researchers\", \"design\", \"engineers\", \"mathematics\", \"logic\", \"code\", \"operating\", \"manufacturer\", \"3-d\", \"manufacturers\", \"file\", \"inc.\", \"specialized\", \"text\", \"reader\", \"messages\", \"ipod\", \"install\", \"cisco\", \"laboratories\", \"glitch\", \"how\", \"even\", \"networked\", \"supercomputer\", \"workstation\", \"hacking\", \"downloading\", \"you\", \"automation\", \"automatically\", \"check\", \"gadget\", \"customers\", \"telephones\", \"console\", \"can\", \"y2k\", \"scanner\", \"calculator\", \"cellular\", \"equipped\", \"typing\", \"editing\", \"own\", \"asustek\", \"connected\", \"customer\", \"communicate\", \"technicians\", \"enables\", \"sony\", \"cameras\", \"store\", \"display\", \"problem\", \"like\", \"pages\", \"actually\", \"monitors\", \"pentium\", \"robots\", \"netscape\", \"so\", \"books\", \"simulations\", \"analog\", \"tracking\", \"images\", \"available\", \"bug\", \"physics\", \"installed\", \"create\", \"cellphone\", \"scientist\", \"n't\", \"mail\", \"developers\", \"other\", \"click\", \"classroom\", \"notebook\", \"everything\", \"marketing\", \"intelligent\", \"read\", \"game\", \"experts\", \"study\", \"messaging\", \"able\", \"upgrade\", \"motorola\", \"visual\", \"modeling\", \"firms\", \"semiconductor\", \"engineer\", \"professionals\", \"now\", \"micro\", \"copying\", \"microsystems\", \"algorithms\", \"makes\", \"connect\", \"simply\", \"library\", \"problems\", \"hard\", \"_\", \"imaging\", \"same\", \"connections\", \"services\", \"calculators\", \"sales\", \"terminals\", \"latest\", \"printing\", \"robot\", \"proprietary\", \"provider\", \"floppy\", \"semiconductors\", \"materials\", \"ability\", \"used\", \"media\", \"learn\", \"mit\", \"manufacturing\", \"market\", \"remote\", \"could\", \"print\", \"biology\", \"write\", \"find\", \"classrooms\", \"technological\", \"physical\", \"videos\", \"search\", \"any\", \"scientists\", \"linux\", \"tape\", \"up\", \"every\", \"stored\", \"lenovo\", \"scientific\", \"control\", \"created\", \"designed\", \"libraries\", \"tv\", \"time\", \"displays\", \"developer\", \"satellite\", \"might\", \"fact\", \"word\", \"televisions\", \"such\", \"those\", \"businesses\", \"giant\", \"3d\", \"circuitry\", \"nintendo\", \"unix\", \"chat\", \"that\", \"circuits\", \"consumers\", \"master\", \"touch\", \"malicious\", \"websites\", \"glitches\", \"which\", \"gamers\", \"language\", \"functions\", \"office\", \"microchips\", \"music\", \"easier\", \"startup\", \"working\", \"mathematical\", \"rather\", \"appliance\", \"imac\", \"room\", \"multiple\", \"consoles\", \"make\", \"kind\", \"scanners\", \"anyone\", \"models\", \"ca\", \"generated\", \"basic\", \"controller\", \"95\", \"turn\", \"cellphones\", \"easy\", \"because\", \"sort\", \"instruction\", \"jobs\", \"cell\", \"cd\", \"scanning\", \"home\", \"typewriter\", \"one\", \"many\", \"xerox\", \"management\", \"addition\", \"optical\", \"__________________________________\", \"get\", \"some\", \"doing\", \"expertise\", \"analysis\", \"real-time\", \"paper\", \"typically\", \"vendor\", \"already\", \"solutions\", \"buy\", \"making\", \"or\", \"mp3\", \"microchip\", \"analyze\", \"done\", \"roms\", \"documents\", \"encryption\", \"keyboards\", \"installation\", \"enable\", \"worldwide\", \"scan\", \"recently\", \"student\", \"more\", \"brain\", \"well\", \"worm\", \"comes\", \"work\", \",\", \"skills\", \"computational\", \"movies\", \"executives\", \"what\", \"e\", \"instead\", \"publishing\", \".\", \"all\", \"and\", \"cable\", \"few\", \"computation\", \"require\", \"entertainment\", \"input\", \"designing\", \"savvy\", \"simple\", \"just\", \"biomedical\", \"cpu\", \"sites\", \"book\", \"pornography\", \"interfaces\", \"client\", \"providers\", \"requires\", \"downloads\", \"a\", \"usage\", \"ipods\", \"creating\", \"things\", \"image\", \"connection\", \"vcr\", \"link\", \"xp\", \"flash\", \"password\", \"buying\", \"understand\", \"switching\", \"only\", \"another\", \"spreadsheet\", \"applied\", \"studying\", \"supercomputers\", \"commands\", \"these\", \"do\", \"turned\", \"employees\", \"selling\", \"oracle\", \"tasks\", \"passwords\", \"much\", \"gateway\", \"controllers\", \"aol\", \"easily\", \"it\", \"geeks\", \"know\", \"installing\", \"expert\", \"say\", \"provides\", \"shows\", \"yahoo\", \"fujitsu\", \"ago\", \"global\", \"desktops\", \"similar\", \"either\", \"but\", \"job\", \"accessories\", \"biotechnology\", \"toy\", \"enabling\", \"operators\", \"calif.\", \"credit\", \"controls\", \"component\", \"dvd\", \"magazines\", \"simultaneously\", \"learned\", \"wired\", \"educational\", \"speed\", \"handle\", \"students\", \"world\", \"tvs\", \"way\", \"onboard\", \"discs\", \"faster\", \"electronically\", \"rooms\", \"need\", \"help\", \"iphone\", \"testing\", \"share\", \"does\", \"types\", \"mac\", \"notebooks\", \"power\", \"kids\", \"big\", \"look\", \"graphical\", \"satyam\", \"instructions\", \"centers\", \"though\", \"'re\", \"directly\", \"allow\", \"features\", \"playstation\", \"unit\", \"looking\", \"offers\", \"nerd\", \"where\", \"enterprise\", \"smartphone\", \"wo\", \"hand\", \"wearable\", \"functionality\", \"mails\", \"id\", \"quantum\", \"recording\", \"cds\", \"flaw\", \"accessing\", \"writing\", \"numbers\", \"sciences\", \"photo\", \"?\", \"browsing\", \"browsers\", \"addresses\", \"sensors\", \"assistants\", \"copied\", \"essentially\", \"someone\", \"operator\", \"anything\", \"nokia\", \"required\", \"random\", \"provide\", \"appliances\", \"desks\", \"firm\", \"develop\", \"sets\", \"creative\", \"they\", \"architecture\", \"when\", \"entire\", \"service\", \"employee\", \"who\", \"specialist\", \"industrial\", \"manipulate\", \"almost\", \"whiz\", \"versions\", \"better\", \"sells\", \"answering\", \"games\", \"ways\", \"core\", \"mind\", \"most\", \"profit\", \"machinery\", \"the\", \"graphic\", \"vendors\", \"dimensional\", \"not\", \"generation\", \"readers\", \"analysts\", \"if\", \"shop\", \"enough\", \"sell\", \"particular\", \"dvds\", \"consulting\", \"idea\", \"manuals\", \"pirated\", \"them\", \"specific\", \"box\", \"recent\", \"excel\", \"whose\", \"movie\", \"into\", \"out\", \"to\", \"than\", \"stock\", \"accounting\", \"older\", \"stanford\", \"then\", \"first\", \"unlike\", \"bit\", \"department\", \"trying\", \"standard\", \"serial\", \"number\", \"its\", \"player\", \"capability\", \"motherboard\", \"this\", \"feature\", \"teaching\", \"toys\", \"chess\", \"various\", \"revenue\", \"have\", \"manage\", \"send\", \"art\", \"modern\", \"mainframes\", \"tapes\", \"theft\", \"privacy\", \"gps\", \"competitors\", \"printed\", \"graduate\", \"studio\", \"auto\", \"onto\", \"hp\", \"institute\", \"intelligence\", \"medical\", \"forensics\", \"version\", \"others\", \"brains\", \"publisher\", \"offering\", \"voice\", \"advertising\", \"once\", \"laser\", \"theoretical\", \"'ll\", \"content\", \"else\", \"manipulation\", \"something\", \"codes\", \"on\", \"facilities\", \"industries\", \"retailers\", \"also\", \"timewrn\", \"update\", \"interaction\", \"viruses\", \"cost\", \"navigation\", \"ipad\", \"moreover\", \"while\", \"courses\", \"facebook\", \"invented\", \"capable\", \"television\", \"sure\", \"broadband\", \"instruments\", \"too\", \"geek\", \"parts\", \"instant\", \"boards\", \"hobbyists\", \"different\", \"possible\", \"specialists\", \"early\", \"separate\", \"fbi\", \"several\", \"itunes\", \"_____________________________________________\", \"financial\", \"toshiba\", \"has\", \"actual\", \"thinking\", \"puzzle\", \"focused\", \"researcher\", \"yet\", \"professional\", \"indeed\", \"fix\", \"in\", \"years\", \"consultant\", \"offices\", \"gain\", \"bulletin\", \"kinds\", \"small\", \"concepts\", \"plug\", \"complete\", \"whether\", \"amiga\", \"teacher\", \"each\", \"today\", \"animated\", \"obsolete\", \"accessed\", \"itself\", \"studies\", \"chemistry\", \"recorder\", \"stereo\", \"sensor\", \"talking\", \"address\", \"come\", \"having\", \"puzzles\", \"nerds\", \"university\", \"works\", \"answer\", \"identify\", \"reading\", \"advance\", \"wiring\", \"prototype\", \"millions\", \"useful\", \"money\", \"telecommunication\", \"translate\", \"teach\", \"traffic\", \"printouts\", \"purpose\", \"cannot\", \"retail\", \"practical\", \"page\", \"email\", \"etc.\", \"amd\", \"berkeley\", \"innovation\", \"including\", \"120-299\", \"formats\", \"inventory\", \"providing\", \"copies\", \"switch\", \"switches\", \"of\", \"site\", \"professor\", \"handsets\", \"introduced\", \"are\", \"existing\", \"nearly\", \"usb\", \"printout\", \"calculations\", \"old\", \"training\", \"simulator\", \"includes\", \"model\", \"purchases\", \"provided\", \"talk\", \"conferencing\", \"view\", \"solve\", \"definition\", \"means\", \"behavior\", \"optics\", \"performance\", \"remotely\", \"he\", \"everyone\", \"numerical\", \"type\", \"banking\", \"stuff\", \"variety\", \"posted\", \"suite\", \"think\", \"macs\", \"helped\", \"shopper\", \"sensitive\", \"material\", \"1980s\", \"be\", \"worked\", \"take\", \"automotive\", \"college\", \"rely\", \"will\", \"via\", \"transmit\", \"administrators\", \"real\", \"digitally\", \"become\", \"8-bit\", \"wall\", \"professors\", \"showing\", \"upgrades\", \"managers\", \"3com\", \"little\", \"programmable\", \"next\", \"experience\", \"faculty\", \"found\", \"certain\", \"domain\", \"oriented\", \"seller\", \"with\", \"reports\", \"there\", \"resource\", \"entrepreneur\", \"tablet\", \"project\", \"acer\", \"picture\", \"earnings\", \"getting\", \"often\", \"'ve\", \"alone\", \"why\", \"finding\", \"intended\", \"quickly\", \"stores\", \"patents\", \"function\", \"drive\", \"info\", \"may\", \"calls\", \"both\", \"custom\", \"did\", \"xbox\", \"security\", \"radar\", \"ubiquitous\", \"put\", \"corporations\", \"microcomputer\", \"running\", \"clients\", \"key\", \"boxes\", \"scans\", \"message\", \"pictures\", \"aeronautical\", \"ups\", \"textbooks\", \"campus\", \"environments\", \"weapons\", \"dedicated\", \"last\", \"typed\", \"associates\", \"chipmaker\", \"updated\", \"languages\", \"similarly\", \"designer\", \"sound\", \"faulty\", \"error\", \"synthesizer\", \"``\", \"clock\", \"curriculum\", \"private\", \"developing\", \"gear\", \"astronomy\", \"classes\", \"through\", \"lines\", \"without\", \"still\", \"desk\", \"limited\", \"hundreds\", \"set\", \"case\", \"introduction\", \"casio\", \"array\", \"plans\", \"later\", \"original\", \"high\", \"speakers\", \"watch\", \"atari\", \"inexpensive\", \"test\", \"departments\", \"analyzing\", \"prodigy\", \"workshop\", \"sending\", \"allowing\", \"their\", \"want\", \"supposed\", \"implemented\", \"viewer\", \"nasdaq\", \"week\", \"bought\", \"productivity\", \"california\", \"suggest\", \"copyrighted\", \"lcd\", \"new\", \"dealing\", \"corporation\", \"color\", \"piece\", \"been\", \"com\", \"lot\", \"largest\", \"size\", \"mapping\", \"intuit\", \"techniques\", \"steal\", \"simulate\", \"object\", \"public\", \"usually\", \"advantage\", \"comdex\", \"age\", \"encrypted\", \"internal\", \"diskettes\", \"ever\", \"website\", \"large\", \"school\", \"pre\", \"detection\", \"shopping\", \"no\", \"handset\", \"slide\", \"modules\", \"accessible\", \"education\", \"keep\", \"average\", \"develops\", \"people\", \"resources\", \"down\", \"samsung\", \"1990s\", \"fi\", \"concept\", \"less\", \"generate\", \"leading\", \"architectures\", \"profits\", \"handwriting\", \"java\", \"mode\", \"document\", \"major\", \"environment\", \"parallel\", \"harvard\", \"distributed\", \"purchase\", \"detect\", \"log\", \"really\", \"pocket\", \"$\", \"history\", \"grid\", \"higher\", \"conversations\", \"outdated\", \"literate\", \"monitoring\", \"started\", \"fall\", \"amazon.com\", \"apparently\", \"see\", \"my\", \"sharing\", \"inside\", \"however\", \"call\", \"folks\", \"engine\", \"basically\", \"seems\", \"focus\", \"catalog\", \"needed\", \"quanta\", \"soon\", \"include\", \"specializing\", \"designs\", \"is\", \"show\", \"complex\", \"spend\", \"avionics\", \"retailer\", \"platforms\", \"full\", \"players\", \"buyers\", \"shut\", \"genius\", \"fast\", \"from\", \"probably\", \"designers\", \"settings\", \"although\", \"items\", \"perhaps\", \"format\", \"copyright\", \"smartphones\", \"detailed\", \"shares\", \"maintenance\", \"as\", \"precision\", \"anywhere\", \"panel\", \"'d\", \"quality\", \"cad\", \"moving\", \"transactions\", \"license\", \"reality\", \"must\", \"virus\", \"patient\", \"criminal\", \"publications\", \"dial\", \"digitized\", \"academic\", \"helps\", \"costs\", \"aerospace\", \"reference\", \"ones\", \"2000\", \"would\", \"characters\", \"technologically\", \"nec\", \"upgrading\", \"biggest\", \"acquisition\", \"flat\", \"person\", \"appears\", \"let\", \"operations\", \"board\", \"atm\", \"stocks\", \"our\", \"maps\", \"involved\", \"dozens\", \"errors\", \"psychology\", \"seem\", \"changing\", \"tiny\", \"taught\", \"cambridge\", \"checking\", \"included\", \"telecom\", \"innovations\", \"says\", \"directory\", \"determine\", \"facility\", \"part\", \"bios\", \"ncr\", \"upgraded\", \"presentation\", \"siemens\", \"effects\", \"additional\", \"informatics\", \"compromised\", \"videogame\", \"subscribers\", \"dynamic\", \"clicking\", \"tables\", \"exactly\", \"recorders\", \"e.g.\", \"furniture\", \"decade\", \"economics\", \"objects\", \"reason\", \"month\", \"delete\", \"innovative\", \"group\", \"social\", \"requiring\", \"involves\", \"looks\", \"creation\", \"degree\", \"nasa\", \"infrastructure\", \"according\", \"specializes\", \"play\", \"behind\", \"being\", \"needs\", \"second\", \"besides\", \"built-in\", \"spyware\", \"typical\", \"support\", \"interested\", \"household\", \"plugged\", \"licensing\", \"fraud\", \"sorts\", \"pornographic\", \"individual\", \"level\", \"development\", \"sense\", \"failures\", \"flight\", \"current\", \"perform\", \"putting\", \"biological\", \"enthusiasts\", \"earlier\", \"list\", \"motherboards\", \"general-purpose\", \"sunnyvale\", \"telephony\", \"division\", \"manufacture\", \"slot\", \"megabytes\", \"child\", \"run\", \"homework\", \"newest\", \"trouble\", \"interact\", \"an\", \"thousands\", \"mechanics\", \"year\", \"handful\", \"focusing\", \"links\", \"lists\", \"stealing\", \"merely\", \"cd-rom\", \"signals\", \"explain\", \"eventually\", \"-\", \"tell\", \"identification\", \"car\", \"increasingly\", \"since\", \"change\", \"customized\", \"map\", \"translation\", \"investigators\", \"commerce\", \"beyond\", \"coded\", \"specifically\", \"result\", \"build\", \"sized\", \"otherwise\", \"arts\", \"tests\", \"expensive\", \"repair\", \"outsourcing\", \"concerns\", \"animators\", \"teachers\", \"closely\", \"yourself\", \"wizard\", \"suggests\", \"skype\", \"involve\", \"go\", \"32-bit\", \"factory\", \"setup\", \"sector\", \"across\", \"bits\", \"sometimes\", \"storing\", \"hidden\", \"was\", \"japanese\", \"offer\", \"monopoly\", \"course\", \"fax\", \"disc\", \"commercial\", \"about\", \"clone\", \"select\", \"cassette\", \"configured\", \"load\", \"shipping\", \"keys\", \"copier\", \"spreadsheets\", \"external\", \"''\", \"universities\", \"ranging\", \"expect\", \"fingerprint\", \"projection\", \"requirements\", \"venture\", \"contents\", \"never\", \"forensic\", \"animations\", \"operate\", \"kitchen\", \"contractor\", \"signal\", \"primarily\", \"faxes\", \"projects\", \"nothing\", \"hours\", \"supply\", \"concern\", \"consultants\", \"launch\", \"cupertino\", \"wrong\", \"guidance\", \"malware\", \"showed\", \"future\", \"pda\", \"predict\", \"by\", \"gets\", \"involving\", \"theory\", \"newer\", \"stolen\", \"trading\", \"chinese\", \"driven\", \"sega\", \"impossible\", \"for\", \"listening\", \"at\", \"genetic\", \"activity\", \"disney\", \"adventure\", \"powered\", \"unfortunately\", \"potential\", \"chemical\", \"made\", \"ideas\", \"after\", \"standards\", \"relevant\", \"universe\", \"questions\", \"presentations\", \"output\", \"supplier\", \"growing\", \"center\", \"survey\", \"complicated\", \"clips\", \"produce\", \"virtually\", \"investing\", \"officials\", \"sent\", \"initial\", \"international\", \"fixed\", \"drawing\", \"clever\", \"inventor\", \"report\", \"apply\", \"focuses\", \"os\", \"radios\", \"powerpc\", \"salesman\", \"battery\", \"updating\", \"introduce\", \"thing\", \"router\", \"third\", \"answers\", \"communicating\", \"months\", \"best\", \"logged\", \"fun\", \"typewriters\", \"tricks\", \"activities\", \"statistics\", \"arcade\", \"secret\", \"magazine\", \"routers\", \"got\", \"prevent\", \"hack\", \"turning\", \"least\", \"edit\", \"track\", \"going\", \"motion\", \"junk\", \"1,000\", \"life\", \"simulators\", \"on-board\", \"acquire\", \"automatic\", \"workgear\", \"net\", \"participants\", \"i\", \"top\", \"before\", \"aided\", \"retailing\", \"appear\", \"obtained\", \"initially\", \"capacity\", \"checks\", \"shoppers\", \"staff\", \"patterns\", \"e-mail\", \"poker\", \"1998\", \"normally\", \"controlled\", \"off\", \"taking\", \"classified\", \"travel\", \"cray\", \"manufactured\", \"decipher\", \"helping\", \"module\", \"spending\", \"meant\", \"called\", \"16-bit\", \"specifications\", \"secure\", \"dozen\", \"64\", \"linked\", \"devoted\", \"around\", \"describe\", \"adobe\", \"his\", \"packaging\", \"troubleshooting\", \"enter\", \"we\", \"demand\", \"correctly\", \"results\", \"papers\", \"thanks\", \"high-tech\", \"functional\", \"ltd.\", \"scanned\", \"especially\", \"connectivity\", \"takes\", \"vista\", \"audience\", \"options\", \"studied\", \"piracy\", \"instrument\", \"ordinary\", \"publishers\", \"integrate\", \"photos\", \"default\", \"methods\", \"lucent\", \"earth\", \"mitnick\", \"browse\", \"strategy\", \"watching\", \"surveillance\", \"trained\", \"visualization\", \"shipments\", \"bandwidth\", \"creates\", \"1995\", \"completely\", \"bugs\", \"field\", \"believe\", \"acquiring\", \"dropped\", \"app\", \"written\", \"relying\", \"topics\", \"expectations\", \"built\", \"agencies\", \"projector\", \"high-end\", \"web-based\", \"pay\", \"artificial\", \"jargon\", \"taiwan\", \"line\", \"aeronautics\", \"shipped\", \"robotic\", \"among\", \"account\", \"should\", \"start\", \"distribution\", \"limitations\", \"blog\", \"coming\", \"order\", \"dna\", \"conjunction\", \"away\", \"philips\", \"cryptography\", \"exchange\", \"timer\", \"360\", \"shelves\", \"nt\", \"posting\", \"surfing\", \"plumbing\", \"orders\", \"enforcement\", \"palo\", \"published\", \"back\", \"cases\", \"two\", \"hewlett-packard\", \"sold\", \"skill\", \"seen\", \"flaws\", \"forecasts\", \"founder\", \"mean\", \"million\", \"'s\", \"subjects\", \"becoming\", \"spam\", \"marketplace\", \"generator\", \"generic\", \"direct\", \"whenever\", \"fully\", \"themselves\", \"fewer\", \"firewall\", \"lockheed\", \"retrieve\", \"planning\", \"interest\", \"maybe\", \"pagers\", \"hitachi\", \"inventions\", \"dos\", \"subject\", \"equivalent\", \"palm\", \"matter\", \"kid\", \"trades\", \"parents\", \"manual\", \"follow\", \"billing\", \"beginning\", \"plastic\", \"emc\", \"wires\", \"blogs\", \"processes\", \"employed\", \"accounts\", \"feedback\", \"complexity\", \"ebay\", \"imagine\", \"pioneered\", \"nationwide\", \"realized\", \"numerous\", \"worry\", \"platform\", \"came\", \"extensive\", \"comparable\", \"overseas\", \"viewing\", \"pioneer\", \"manipulated\", \"move\", \"pharmaceutical\", \"radio\", \"units\", \"utilizing\", \"documentation\", \"synthesizers\", \"acquired\", \"entirely\", \"fancy\", \"individuals\", \"improve\", \"amazon\", \"entry\", \"novell\", \"drivers\", \"turns\", \"airplanes\", \"investor\", \"dialing\", \"competitor\", \"question\", \"advances\", \"bad\", \"film\", \"rendering\", \"geac\", \"given\", \"gates\", \"u.s.\", \"iphones\", \"nonprofit\", \"hired\", \"porn\", \"series\", \"pixar\", \"seagate\", \"issues\", \"very\", \"mechanic\", \"teens\", \"here\", \"tutorial\", \"cognitive\", \"palmtop\", \"crack\", \"nuclear\", \"plus\", \"braille\", \"solving\", \"manhattan\", \"teaches\", \"value\", \"critical\", \"had\", \"rankings\", \"guess\", \"wirelessly\", \"measurement\", \"quite\", \"care\", \"1997\", \"knows\", \"boot\", \"ads\", \"terminal\", \"building\", \"us\", \"warning\", \"tax\", \"routinely\", \"transaction\", \"far\", \"collaboration\", \"cursor\", \"publication\", \"charge\", \"40\", \"finance\", \"mailing\", \"effort\", \"projections\", \"markets\", \"microcomputers\", \"government\", \"magic\", \"30\", \"kodak\", \"abilities\", \"displaying\", \"likely\", \"1996\", \"relatively\", \"blackberry\", \"stole\", \"contain\", \"intellectual\", \"outside\", \"led\", \"combining\", \"huge\", \"notion\", \"relies\", \"serious\", \"compatibility\", \"studios\", \"partly\", \"law\", \"analyzed\", \"98\", \"drop\", \"production\", \"invention\", \"english\", \"vast\", \"hobbyist\", \"powerpoint\", \"micron\", \"chemicals\", \"process\", \"state-of-the-art\", \"pretty\", \"notes\", \"486\", \"betting\", \"wants\", \"always\", \"circuit\", \"100\", \"button\", \"slowing\", \"thought\", \"automate\", \"ict\", \"adult\", \"single\", \"indicate\", \"revenues\", \"leap\", \"instantly\", \"skilled\", \"thus\", \"expected\", \"titles\", \"technique\", \"gains\", \"released\", \"news\", \"employ\", \"day\", \"evidence\", \"previous\", \"task\", \"alarm\", \"antiquated\", \"driver\", \"utilize\", \"explaining\", \"organization\", \"ported\", \"yesterday\", \"tracks\", \"investors\", \"tried\", \"aspects\", \"execute\", \"viewers\", \"broadcast\", \"unique\", \"photography\", \"compile\", \"logical\", \"common\", \"words\", \"conventional\", \"joystick\", \"hands\", \"scripts\", \"projectors\", \"window\", \"boy\", \"doctor\", \"names\", \"unauthorized\", \"supplied\", \"institutions\", \"give\", \"videotape\", \"kiosks\", \"discovered\", \"android\", \"suppliers\", \"displayed\", \"cash\", \"possibly\", \"navigate\", \"wide\", \"airplane\", \"alamos\", \"experiments\", \"counter\", \"originally\", \"traced\", \"federal\", \"prices\", \"manufactures\", \"texas\", \"price\", \"three\", \"computations\", \"happens\", \"sun\", \"nursing\", \"decoding\", \"failed\", \"children\", \"aimed\", \"undergraduate\", \"everyday\", \"entrepreneurs\", \"fiction\", \"normal\", \"good\", \"archive\", \"rules\", \"popular\", \"were\", \"mental\", \"x\", \"and/or\", \"thinks\", \"diagnostic\", \"configuration\", \"currently\", \"implementation\", \"fell\", \"impact\", \"decline\", \"character\", \"literature\", \"percent\", \"supposedly\", \"changed\", \"transmission\", \"cars\", \"colleges\", \"conduct\", \"enhancements\", \"shown\", \"irs\", \"rapidly\", \"mistakes\", \"hollywood\", \"philosophy\", \"advent\", \"military\", \"ask\", \"useless\", \"records\", \"satellites\", \"genetics\", \"compact\", \"reveal\", \"unable\", \"simulated\", \"command\", \"drawings\", \"randomly\", \"enhanced\", \"colleagues\", \"contact\", \"locate\", \"shared\", \"weak\", \"charges\", \"officer\", \"recycling\", \"within\", \"aviation\", \"guide\", \"packages\", \"50\", \"wanted\", \"videoconferencing\", \"short\", \"discrete\", \"bloomberg\", \"comparison\", \"cutting\", \"keystrokes\", \"symantec\", \"energy\", \"human\", \"schools\", \"health\", \"efficient\", \"bubble\", \"searches\", \"highly\", \"doctors\", \"interpret\", \"spare\", \"risk\", \"necessarily\", \"gambling\", \"cloud\", \"end\", \"action\", \"rise\", \"deliver\", \"napster\", \"sensing\", \"mathematicians\", \"worldsources\", \"sectors\", \"qualcomm\", \"quick\", \"days\"], \"legendgroup\": \"\", \"marker\": {\"color\": \"#636efa\", \"symbol\": \"circle\"}, \"mode\": \"markers\", \"name\": \"\", \"showlegend\": false, \"type\": \"scattergl\", \"x\": [55.54933547973633, 35.03359603881836, 55.85789108276367, -11.865544319152832, 53.36870193481445, 58.2742919921875, 43.42165756225586, 33.89130401611328, 12.891287803649902, 34.92293930053711, 25.69228744506836, 54.990447998046875, 35.511226654052734, 35.601470947265625, 18.322956085205078, 83.05636596679688, 35.63846969604492, -15.896963119506836, 23.58415412902832, 27.06756591796875, 55.69468688964844, 42.659393310546875, 26.887624740600586, 36.867271423339844, 43.10537338256836, 44.67036056518555, 32.736305236816406, -16.215261459350586, 57.11798095703125, 84.8918685913086, 51.8343391418457, 19.636066436767578, 27.05318832397461, 48.705196380615234, 70.89531707763672, 60.24955368041992, -10.466961860656738, -62.64227294921875, 65.82259368896484, 74.85247039794922, 73.48346710205078, 60.13090515136719, 2.4351484775543213, 86.31359100341797, 48.51353073120117, 50.86574935913086, 10.883357048034668, 18.530107498168945, 12.9417142868042, 74.1125717163086, 42.667808532714844, 85.38341522216797, 5.124273777008057, -21.68094253540039, -11.908403396606445, 36.03956985473633, 70.97946166992188, 27.198579788208008, -36.10672378540039, 45.72285461425781, 94.43404388427734, -39.31717300415039, -11.099736213684082, 40.77853012084961, 67.79851531982422, -22.817834854125977, 36.65682601928711, 57.982765197753906, 43.753108978271484, 73.45809173583984, 93.68630981445312, -63.468902587890625, -35.41454315185547, 67.5240707397461, 42.55267333984375, 57.226600646972656, 67.71178436279297, -3.1389048099517822, -37.73971939086914, 73.92646789550781, 52.945316314697266, -9.908669471740723, 64.97509765625, 40.8077507019043, -13.426846504211426, 35.35277557373047, -7.431983947753906, -3.353327989578247, 35.32979202270508, 86.49674224853516, 8.282330513000488, 81.37847900390625, 42.95963668823242, 16.598140716552734, 43.701045989990234, 7.32712459564209, 41.42626190185547, 43.234405517578125, -42.610069274902344, 37.10376739501953, 14.830126762390137, 81.37525939941406, 7.25379753112793, 50.78597640991211, 7.301310062408447, 93.63893127441406, 68.17898559570312, 10.895733833312988, -39.029136657714844, 37.89622497558594, 4.91044807434082, -6.3564372062683105, 55.91960906982422, 50.95469665527344, -31.788469314575195, -32.91353225708008, 15.847158432006836, -42.69514465332031, -13.319122314453125, -38.73309326171875, 14.900849342346191, 60.131839752197266, 15.500187873840332, 33.83359909057617, -15.773689270019531, 53.02650833129883, -36.420997619628906, 21.737281799316406, -36.10519790649414, 22.502418518066406, 15.153642654418945, 53.30878448486328, 5.191269397735596, 43.50281524658203, 64.9527587890625, 15.231762886047363, 44.213680267333984, -17.084430694580078, 11.201460838317871, -2.6321921348571777, 69.9319076538086, 15.11941146850586, -38.75547790527344, 32.88094711303711, -14.444544792175293, 19.461837768554688, -15.908638000488281, -21.86846923828125, -33.56083679199219, 68.768798828125, -21.64253044128418, -6.198333740234375, 11.051061630249023, 46.19910430908203, 19.047000885009766, -42.821571350097656, 77.77473449707031, -15.497530937194824, 41.16603088378906, -62.514888763427734, 37.78693771362305, -7.434597015380859, 52.62240219116211, -3.852189064025879, -70.1470947265625, 43.54201889038086, -47.828006744384766, 3.816190242767334, -12.512885093688965, -32.331478118896484, -26.939517974853516, 54.395572662353516, -60.98015213012695, -22.890573501586914, 64.80952453613281, -21.616729736328125, 45.7143440246582, -39.08818054199219, -55.82623291015625, 47.66560363769531, 57.18673324584961, 52.75217819213867, 73.84639739990234, 10.772215843200684, 30.91057777404785, -63.49211120605469, 75.89395904541016, -0.5983886122703552, -33.42906951904297, 52.7039794921875, 51.65767288208008, 50.77157211303711, 87.09310913085938, 81.89057159423828, -10.769847869873047, 21.944948196411133, 21.763540267944336, 0.24814188480377197, 52.5339469909668, -13.281062126159668, 60.25953674316406, 69.41285705566406, -16.80998992919922, 77.21563720703125, 27.66737937927246, 57.949951171875, 58.43480682373047, 2.80753231048584, 64.01889038085938, 72.551025390625, -43.51618957519531, 36.25710678100586, 43.97850799560547, -13.357429504394531, 23.46834373474121, -12.931309700012207, 15.898933410644531, 25.608505249023438, 77.76978302001953, -13.025121688842773, 61.52757263183594, 19.368743896484375, -30.346235275268555, 57.035037994384766, -3.9759111404418945, 21.751832962036133, 50.52398681640625, 25.12934684753418, 36.200233459472656, -29.51139259338379, 60.4610595703125, 41.45669937133789, 82.79529571533203, 21.54052734375, 79.19718933105469, -18.93681526184082, 78.12681579589844, -32.7208366394043, 10.750255584716797, -32.69482421875, 60.41268539428711, -47.11161804199219, -13.853569030761719, 51.483097076416016, -3.7760329246520996, -31.110727310180664, 69.43797302246094, -41.152923583984375, 57.36547088623047, -1.336694598197937, -13.739851951599121, -6.3029680252075195, 52.82600021362305, -48.616233825683594, -51.40291976928711, -43.23268508911133, 52.62853240966797, -15.124330520629883, 9.84954833984375, 29.28656578063965, 3.4807400703430176, 39.89352035522461, -37.77588653564453, 20.895347595214844, -12.438096046447754, -49.20721435546875, -39.22893142700195, 27.01165008544922, 81.95071411132812, 33.84324264526367, -22.538114547729492, -30.333559036254883, 43.86986541748047, -1.1750093698501587, -5.092949867248535, 19.30994415283203, -27.539703369140625, -32.67131042480469, 26.88439178466797, -42.66883087158203, 43.09773635864258, -4.98090934753418, 57.99319076538086, -18.4732608795166, 1.5153800249099731, -65.54137420654297, 55.73667907714844, 25.401288986206055, 33.78065490722656, -13.165277481079102, 93.88443756103516, 21.00212287902832, -1.9710922241210938, -30.371305465698242, -2.99544095993042, 40.33793640136719, -43.962223052978516, -56.42605209350586, -27.664331436157227, -83.57829284667969, 27.81904411315918, -17.931528091430664, 55.095611572265625, -33.413429260253906, 54.55507278442383, 26.22629737854004, -41.12145233154297, -15.987669944763184, -34.21367645263672, 84.91131591796875, 29.968984603881836, -9.754751205444336, -47.679931640625, 57.172340393066406, 88.80633544921875, -48.1552848815918, -55.26418685913086, -3.7566139698028564, 36.07240676879883, -41.33147430419922, -27.399232864379883, -32.50236511230469, 2.5074431896209717, -5.356858730316162, 41.9163818359375, -54.39556121826172, 61.642181396484375, -3.776015043258667, 26.227968215942383, -17.647489547729492, 8.530874252319336, 43.58089065551758, 67.39820098876953, -30.794925689697266, -28.232284545898438, -36.45976257324219, -58.91568374633789, 64.74288940429688, 18.599634170532227, 69.46768188476562, 56.8603401184082, 44.58134460449219, -40.34025192260742, 18.055927276611328, -15.160049438476562, -50.33513259887695, 25.242456436157227, 83.77833557128906, 43.092567443847656, 75.8924789428711, -41.13956832885742, 72.10966491699219, 45.184852600097656, 20.623075485229492, -50.11180877685547, 46.16633224487305, 78.07891082763672, -10.569328308105469, 17.40030288696289, -42.6042366027832, -28.817134857177734, -0.49402526021003723, 3.7433736324310303, 57.94308853149414, 9.942447662353516, -7.595195293426514, 69.46731567382812, -31.249467849731445, 5.705048561096191, 27.72233772277832, 0.3606952428817749, 8.31301212310791, -14.080480575561523, -36.91140365600586, -9.27348804473877, 2.6068122386932373, -91.96502685546875, -39.44305419921875, 61.563350677490234, -10.709362983703613, -30.681591033935547, 5.56064510345459, 27.547943115234375, -47.78104782104492, 57.841651916503906, 88.87104797363281, 26.175086975097656, -52.48646545410156, 62.55735397338867, -53.340579986572266, -34.63290023803711, 36.88199996948242, -38.27694320678711, 1.9970383644104004, 24.310422897338867, 61.37788009643555, -25.015594482421875, -34.98323059082031, 3.568782091140747, -33.267948150634766, -14.286744117736816, 42.518733978271484, 53.460350036621094, 5.0898003578186035, -5.456096649169922, -36.2240104675293, 20.88330841064453, -26.523277282714844, -31.557130813598633, -2.4806952476501465, 74.7962646484375, 46.05527877807617, 31.101985931396484, 3.553447723388672, 93.4131088256836, 49.27048110961914, 62.10528564453125, 67.77496337890625, 11.689705848693848, 15.083924293518066, -61.751564025878906, 26.61252212524414, -38.3881950378418, -52.10573959350586, -67.65027618408203, 30.86777687072754, -39.16393280029297, 79.92314910888672, -23.34649658203125, -42.2401237487793, -46.523494720458984, -32.33558654785156, -24.809804916381836, 69.57855987548828, -38.2305908203125, -0.839702844619751, 51.5571174621582, -0.4197903871536255, 62.7961311340332, -46.57176208496094, -28.8320255279541, -40.25672149658203, 40.62743377685547, -35.843040466308594, -23.339305877685547, 5.413135051727295, 71.30078887939453, 23.030502319335938, 3.1290602684020996, -7.591089725494385, -9.878042221069336, -19.514732360839844, -26.609560012817383, 53.953739166259766, 36.85003662109375, 60.54256057739258, 95.6446304321289, 42.995811462402344, -8.985533714294434, -13.169083595275879, 5.854597091674805, 81.54830169677734, -51.848777770996094, -1.5282220840454102, 72.75371551513672, -32.72893524169922, -1.598673939704895, 78.83558654785156, 42.996482849121094, 88.8014907836914, 42.09434509277344, 43.451385498046875, 43.00645065307617, 63.68084716796875, -28.542781829833984, 1.9605903625488281, 37.365787506103516, -36.13212203979492, -52.36056137084961, 85.9962158203125, 9.890950202941895, -44.8026008605957, 51.701786041259766, -47.430145263671875, -27.776443481445312, -13.768867492675781, -40.19808578491211, -49.005218505859375, -28.356952667236328, 33.12492370605469, 8.845148086547852, 63.76272964477539, -34.432106018066406, 37.98311233520508, 2.5471227169036865, 36.32358932495117, -56.466697692871094, -41.212562561035156, 20.047687530517578, -2.958979845046997, 11.017783164978027, -52.754913330078125, -5.027378559112549, -16.512248992919922, 54.474273681640625, 37.70779800415039, 27.523101806640625, -68.16632843017578, -61.46000671386719, 54.33237838745117, -26.182498931884766, -2.4116785526275635, -33.53228759765625, -47.74783706665039, 1.1532533168792725, -26.148357391357422, -2.8677306175231934, 15.180530548095703, 8.926512718200684, 10.245641708374023, 13.503325462341309, -27.34976577758789, 7.333930492401123, 88.60140228271484, 64.31130981445312, -8.27607250213623, -44.17700958251953, 53.52269744873047, -57.31358337402344, -13.131187438964844, -13.008641242980957, -52.29508590698242, -60.29872512817383, 67.71234130859375, -1.0442924499511719, 40.919456481933594, 90.82714080810547, -12.717585563659668, 22.660125732421875, 10.168245315551758, -13.76164436340332, -17.989192962646484, 73.13621520996094, -40.30796432495117, -87.5661392211914, -12.59667682647705, -2.017648458480835, 58.43593215942383, 57.48129653930664, -27.391645431518555, -85.99274444580078, -60.17307662963867, 10.80756950378418, 42.93980026245117, 2.8260834217071533, 27.2388858795166, -45.33901596069336, -33.647010803222656, -15.870142936706543, -0.04352038353681564, 13.501513481140137, 27.49456024169922, 70.51275634765625, -57.72813415527344, 10.939373970031738, -21.583541870117188, 18.762636184692383, -52.112953186035156, -35.29395294189453, 69.44029235839844, -12.990155220031738, 26.311519622802734, 52.97261428833008, 43.89753723144531, 53.126766204833984, 31.318246841430664, -26.308021545410156, 77.72025299072266, 88.15167999267578, 73.84915924072266, 18.563072204589844, 54.75104522705078, -31.784557342529297, -39.24925994873047, 81.36626434326172, -9.939414024353027, 49.27950668334961, 38.02967071533203, 24.319133758544922, 24.225709915161133, -44.60565948486328, 81.22671508789062, -29.3100528717041, 1.4945228099822998, 8.928201675415039, -1.3756914138793945, 29.075111389160156, 5.502089023590088, -21.010618209838867, -15.822906494140625, 3.804175615310669, 8.964646339416504, -42.916282653808594, -36.6489143371582, -58.18424606323242, -17.884109497070312, -35.752655029296875, 4.304943084716797, -54.879112243652344, -44.24929428100586, -4.974621772766113, -49.33938980102539, -47.253822326660156, -52.84588623046875, -28.337230682373047, 42.401588439941406, -71.2608413696289, -32.165672302246094, 31.577199935913086, -6.380758285522461, -25.7509708404541, 16.709850311279297, -49.169403076171875, -0.8400002121925354, -18.897693634033203, -8.555740356445312, -35.24357986450195, -74.87629699707031, 2.0462005138397217, -45.62171173095703, 82.34751892089844, -5.23465633392334, 63.89822769165039, -14.913434982299805, -71.97919464111328, 57.179874420166016, -70.52265930175781, -14.199042320251465, -12.352550506591797, -15.405220031738281, -26.635826110839844, 5.182070255279541, 88.02782440185547, -44.660621643066406, -5.723787784576416, 27.31523895263672, 87.233154296875, -35.67426300048828, 4.765822887420654, -17.560283660888672, -65.41480255126953, 86.72221374511719, -44.96385192871094, 70.1071548461914, -51.26307678222656, -48.390804290771484, -17.282508850097656, -67.73812866210938, -86.02635955810547, -42.54779815673828, -71.833984375, -55.06356430053711, -54.81574249267578, -50.12143325805664, -28.96678924560547, -10.92750358581543, -54.70575714111328, -20.064786911010742, -1.9858791828155518, 68.06936645507812, -31.792821884155273, -44.502479553222656, -46.68602752685547, -16.103334426879883, 70.6102066040039, -41.90216827392578, 27.504789352416992, -46.491058349609375, -2.8404386043548584, -45.846710205078125, -5.733006000518799, -72.88035583496094, -35.77529525756836, -14.0953950881958, 39.825809478759766, 1.8943241834640503, -30.07526397705078, 51.82111740112305, 88.73318481445312, 37.26308059692383, 13.795187950134277, 28.580751419067383, -20.35758399963379, 54.99440383911133, -52.985652923583984, 75.80054473876953, -5.086902141571045, -50.80065155029297, 34.73162078857422, -42.83153533935547, -48.556724548339844, -70.25516510009766, -51.225223541259766, 31.4305419921875, -32.15485763549805, 30.869680404663086, 62.86394500732422, -22.133201599121094, 79.49009704589844, -13.501829147338867, -52.839778900146484, 24.93782615661621, -28.83735466003418, -10.819620132446289, 41.56861877441406, -0.4068583846092224, 41.96412658691406, -2.70534086227417, 54.382164001464844, -59.4367790222168, -6.066930294036865, -31.000341415405273, -15.2581787109375, -39.569557189941406, 36.41127014160156, 37.12868118286133, 23.05640411376953, 80.69892120361328, -74.14376068115234, 28.62629508972168, 73.0549087524414, 9.787498474121094, -41.88685607910156, -52.70779800415039, 45.16802215576172, -22.762107849121094, -15.875591278076172, 42.0433235168457, -3.978403329849243, 52.63856506347656, 29.859981536865234, -29.074100494384766, 18.759340286254883, -43.611331939697266, 51.784332275390625, -54.82736587524414, 23.3184871673584, -6.107534408569336, -12.78570556640625, -51.090755462646484, -59.00726318359375, -58.311500549316406, -54.258209228515625, -6.424929141998291, 81.19564056396484, 52.0516357421875, -43.304298400878906, 26.66048240661621, -37.85133361816406, -4.598694801330566, -8.450323104858398, 25.016033172607422, -21.982322692871094, -46.964866638183594, -32.75410842895508, -48.879241943359375, 8.810294151306152, 15.934788703918457, -52.32707977294922, -68.95558166503906, -45.1120719909668, -50.0753059387207, -78.06312561035156, 41.288604736328125, -2.9113142490386963, -63.31637954711914, -6.928606033325195, 54.496097564697266, -27.506895065307617, 14.18045425415039, 62.245849609375, -50.0518913269043, -55.143165588378906, -57.31195068359375, 70.03546142578125, 34.63214874267578, 17.608179092407227, -40.498870849609375, -43.35708236694336, -32.958709716796875, 92.10160064697266, 87.69158935546875, 24.186140060424805, 16.31739044189453, 24.42993927001953, -22.008581161499023, -33.553524017333984, 25.02012062072754, 20.044109344482422, -54.008567810058594, -41.77213668823242, 15.408594131469727, 27.202116012573242, 52.780521392822266, -14.664435386657715, 15.974757194519043, 5.659523963928223, -79.10308837890625, -7.595778942108154, -77.7600326538086, 4.8070878982543945, 7.81853723526001, -45.836124420166016, 2.369267702102661, 81.64019775390625, -9.352400779724121, -17.748676300048828, -16.74138641357422, -7.597970962524414, 57.0307502746582, 52.93466567993164, 16.888425827026367, 32.53699493408203, -54.397193908691406, -15.703492164611816, 0.5845317840576172, 19.094547271728516, 80.03706359863281, -23.373138427734375, -15.874486923217773, 55.94319534301758, 37.2585334777832, 37.036895751953125, -45.67939376831055, 36.8478889465332, -53.417152404785156, 66.99223327636719, 6.3160223960876465, -26.989803314208984, -48.98598861694336, -71.25054168701172, 67.76276397705078, 81.63856506347656, -23.368492126464844, -71.55167388916016, -38.778194427490234, 43.01704406738281, 0.0503726601600647, 8.284807205200195, -24.608234405517578, -15.495630264282227, 16.438634872436523, 54.27600860595703, 7.255219459533691, 21.492897033691406, -2.658602476119995, 4.430258274078369, 15.047666549682617, 24.117647171020508, -4.675596714019775, 29.903987884521484, -46.64350509643555, -1.3299256563186646, -23.22899627685547, -1.4706302881240845, -43.24830627441406, -1.6363080739974976, -3.578282356262207, 39.62516403198242, 11.11052131652832, -5.290019989013672, 57.652130126953125, -19.0124454498291, -14.535971641540527, 12.856449127197266, -1.97654390335083, -73.3537368774414, -34.900821685791016, -42.85599136352539, -26.487850189208984, -5.165384769439697, -55.93130111694336, -30.80953025817871, -19.048925399780273, -0.7819180488586426, 44.329376220703125, -50.471466064453125, -20.02031135559082, 76.97388458251953, -49.7769889831543, 56.716617584228516, -80.72979736328125, -52.303810119628906, 55.6982536315918, 10.789634704589844, -38.25606155395508, 30.620832443237305, -11.016792297363281, 57.16751480102539, -58.543914794921875, -34.72005081176758, -52.44818878173828, 23.670949935913086, 5.498950004577637, 22.62213134765625, -23.312265396118164, -6.467209815979004, -41.07101058959961, -26.219501495361328, -11.019376754760742, -29.537694931030273, -24.238319396972656, 72.84153747558594, -35.194942474365234, 36.20392990112305, 78.73892211914062, -74.45687866210938, -25.028217315673828, 2.7877886295318604, -12.847023963928223, 1.4899414777755737, 0.2516181766986847, 26.19916343688965, -9.808879852294922, -55.75078582763672, -13.556004524230957, -21.714269638061523, 20.514389038085938, 32.71295166015625, -17.134510040283203, -17.953645706176758, 21.40057945251465, -40.07270812988281, 3.740396738052368, -15.059511184692383, 70.8891830444336, -47.63158416748047, 24.512109756469727, 59.724212646484375, -45.16371154785156, -38.49565124511719, 53.58216094970703, -40.58147430419922, -9.053430557250977, -56.29929733276367, -17.66948890686035, 26.7487735748291, 52.51173400878906, 79.15052795410156, -9.602409362792969, -11.887985229492188, 25.172060012817383, -56.3238639831543, 34.52400588989258, -25.068933486938477, -23.6715145111084, -65.75750732421875, 63.97987747192383, -44.104679107666016, 22.265974044799805, 37.10114669799805, 45.26357650756836, -20.315807342529297, 1.1361770629882812, 79.09259033203125, 16.78667449951172, 72.22386932373047, 67.77206420898438, -20.516386032104492, 59.779396057128906, -54.490055084228516, -63.03300094604492, -36.634830474853516, 3.3876235485076904, -33.79774475097656, -51.80469512939453, -1.0574785470962524, 24.610435485839844, -9.139604568481445, -38.85945129394531, 8.870478630065918, -19.919591903686523, -78.73347473144531, -58.17409896850586, 31.655275344848633, 5.7537455558776855, 28.270435333251953, -3.2657601833343506, -30.696468353271484, -56.81312942504883, 30.181982040405273, -84.26436614990234, 45.425472259521484, 19.314451217651367, 62.18635940551758, -72.07921600341797, -40.65461349487305, -54.74919891357422, 31.077001571655273, 35.06288146972656, 0.9020676612854004, 40.043209075927734, 13.737115859985352, -43.623497009277344, -11.374293327331543, -18.35969352722168, 4.84778356552124, 56.87479782104492, -85.286865234375, -65.07819366455078, -27.559223175048828, -14.438444137573242, 9.726576805114746, 17.941234588623047, 82.94197845458984, 68.52076721191406, -48.42931365966797, 14.804396629333496, -38.55861282348633, 80.6772689819336, -7.910005569458008, -35.82244110107422, 40.42964172363281, -4.162038326263428, -57.764244079589844, -64.58959197998047, 54.16792678833008, 35.480628967285156, -7.733434200286865, 39.36777877807617, 40.56373977661133, 26.01983070373535, -63.02260208129883, 5.181878566741943, -25.351680755615234, 83.88240814208984, -72.17098236083984, 62.132572174072266, 21.61452865600586, 92.83160400390625, -31.252197265625, 42.202388763427734, -62.75528335571289, -56.088802337646484, -63.16815948486328, 22.869522094726562, -14.11931037902832, -10.042094230651855, 66.86450958251953, -91.1744613647461, 37.39939880371094, 17.477394104003906, -57.10617446899414, -4.8346638679504395, -89.076171875, -35.985164642333984, -31.805932998657227, -29.315893173217773, -48.10862350463867, 24.462491989135742, -73.16947937011719, 68.23054504394531, -6.546976089477539, -67.25387573242188, -36.96372604370117, -56.5685920715332, 56.39234924316406, -74.96652221679688, 31.311586380004883, 47.21379470825195, 43.47266387939453, 48.45602035522461, -56.87712860107422, 34.36445999145508, 44.64575958251953, -55.651859283447266, 3.1077494621276855, -25.974346160888672, 22.90254020690918, 37.27286911010742, -4.346595287322998, 59.64155197143555, -78.65290832519531, -30.84053611755371, 16.61404800415039, -85.4528579711914, 59.48866271972656, 35.023555755615234, -8.467991828918457, 22.026456832885742, -61.12112808227539, -89.09527587890625, 39.83787155151367, -8.5631742477417, -8.854693412780762, -15.901368141174316, -91.4599609375, -49.15163803100586, -33.527587890625, 21.393651962280273, -14.777359008789062, 8.985675811767578, -29.242521286010742, 12.298611640930176, -21.24364471435547, -13.772895812988281, -14.521515846252441, 37.013423919677734, -55.81562805175781, 0.7421566843986511, -55.722469329833984, 3.6824824810028076, -40.399314880371094, 54.26246643066406, -15.809737205505371, -72.26368713378906, 21.061973571777344, -14.78534984588623, 5.852328300476074, -27.499706268310547, -46.83080291748047, -14.677213668823242, -47.911163330078125, -18.90543556213379, -12.540875434875488, -51.572296142578125, -13.736930847167969, 1.1402256488800049, 34.907928466796875, -33.728057861328125, 0.22922348976135254, -13.604461669921875, 80.03608703613281, 84.49820709228516, 69.39925384521484, 47.37785339355469, -86.79731750488281, 14.794632911682129, -38.802120208740234, -31.996381759643555, 0.3977542519569397, -53.70192337036133, -11.845440864562988, -3.112858772277832, 63.97520446777344, -21.821197509765625, -84.61186218261719, -10.584161758422852, 9.317728996276855, -19.1553897857666, 80.76713562011719, -70.09186553955078, 34.698543548583984, 63.51301956176758, 64.08793640136719, 76.94413757324219, -58.222862243652344, -17.093793869018555, -74.04926300048828, -7.112884521484375, 46.740413665771484, -28.493967056274414, -83.70915985107422, -18.430490493774414, 75.5234146118164, -9.780805587768555, 27.66290283203125, 9.459907531738281, -57.6283073425293, -27.093896865844727, -89.32667541503906, 2.337906837463379, 14.077239036560059, -11.435372352600098, -60.14326477050781, -54.702274322509766, 17.671693801879883, -85.7729721069336, -15.78377914428711, 54.153846740722656, 11.56727123260498, -78.11477661132812, 72.24414825439453, -36.7697868347168, 12.228962898254395, 13.891510009765625, -63.75230407714844, -45.89860153198242, -56.29719543457031, 0.2576400637626648, 0.16829052567481995, 5.6808061599731445, -16.354434967041016, -9.930740356445312, 37.94694137573242, 13.833771705627441, -6.051173686981201, -43.535850524902344, 71.80494689941406, 28.906688690185547, 9.826455116271973, 65.87171936035156, 28.529592514038086, -15.507281303405762, 1.9670789241790771, -26.93032455444336, 14.254720687866211, 70.8821029663086, -12.14671802520752, -16.16753578186035, 69.35709381103516, 9.089128494262695, -1.5517194271087646, 92.12680053710938, 17.160688400268555, 1.5523402690887451, -72.35968017578125, -52.23688507080078, 26.028501510620117, 1.332323431968689, -65.5097885131836, 71.91453552246094, -16.81955909729004, -68.68464660644531, -57.588436126708984, 5.117793560028076, 10.57223129272461, 10.412652969360352, -31.96565055847168, -51.945945739746094, -6.211849689483643, -33.758480072021484, -25.820329666137695, -55.72076416015625, -47.796810150146484, -52.21869659423828, -35.34180450439453, -13.551654815673828, -50.928436279296875, 3.0260684490203857, 44.04684829711914, 82.0657958984375, 4.978199481964111, -16.455930709838867, 14.917710304260254, 4.515605926513672, 54.49707794189453, -10.603899955749512, 36.87917709350586, -3.7040796279907227, 95.54534912109375, -24.50634765625, -84.94889831542969, -35.301212310791016, 6.649111747741699, 72.43390655517578, -1.4219346046447754, -48.162540435791016, 6.0768046379089355, -44.8443603515625, -32.9287109375, 22.760879516601562, -64.60418701171875, 37.87302780151367, 70.32530975341797, 57.02137756347656, 12.535089492797852, 52.70158386230469, -56.90963363647461, -25.16721534729004, 15.824398040771484, 96.09556579589844, -87.66508483886719, -40.58173370361328, -33.867427825927734, -66.10765838623047, 20.042661666870117, 23.084321975708008, -51.976497650146484, -78.8862075805664, -26.75824737548828, -66.60729217529297, -77.15220642089844, -22.060205459594727, 41.96540069580078, 37.82990264892578, 38.8744010925293, -1.3380391597747803, 94.15669250488281, 46.54944610595703, 3.511021375656128, -55.8460578918457, -72.3062515258789, -3.8278050422668457, 31.31968879699707, 0.3923906087875366, -50.80099868774414, -69.35292053222656, 13.64264965057373, 3.7517504692077637, 54.152069091796875, 46.2080192565918, -54.141746520996094, -54.86015701293945, -64.89972686767578, 53.674198150634766, 4.122551441192627, -29.76226234436035, -39.02458953857422, -64.50801849365234, -16.67957878112793, 1.6390013694763184, -40.52070236206055, -71.793212890625, 15.060248374938965, 2.7280149459838867, -3.6281561851501465, 70.00154113769531, -50.53647232055664, 21.119680404663086, -11.932114601135254, -2.906520128250122, 17.859790802001953, 53.32330322265625, 10.705445289611816, -17.58834457397461, 56.456356048583984, -27.15619468688965, 36.32724380493164, -30.741426467895508, -38.20308303833008, -8.4982271194458, 2.9770054817199707, -3.5740580558776855, -49.07162857055664, -34.327247619628906, -99.59069061279297, -21.940454483032227, 4.8903961181640625, -52.55845642089844, 53.217037200927734, 90.3432846069336, -34.57106018066406, -37.086910247802734, 56.35042190551758, -21.458677291870117, 88.45882415771484, 34.89756774902344, -18.760231018066406, -29.023523330688477, 66.88063049316406, 74.85099029541016, 85.8913345336914, 21.622339248657227, -20.515869140625, -58.768951416015625, -2.8292102813720703, -68.3761215209961, 31.329038619995117, -72.63633728027344, 0.21074256300926208, -38.96202087402344, 6.126386642456055, -16.6518611907959, -51.223655700683594, 68.57306671142578, -61.22980499267578, 8.956966400146484, -9.22606086730957, 46.71024703979492, -20.421655654907227, 53.360904693603516, -35.01261520385742, -1.2516489028930664, -66.78556060791016, -14.607751846313477, -3.8174636363983154, -45.46985626220703, 27.122976303100586, 12.635307312011719, -5.786402702331543, -14.059082984924316, 82.4269027709961, 55.77418518066406, -13.969432830810547, 67.44351196289062, -68.78050994873047, -36.05225372314453, -25.764755249023438, 11.30781364440918, -28.327707290649414, -70.92171478271484, 38.93486404418945, -85.44212341308594, -99.32357025146484, 31.91713523864746, 68.99231719970703, -15.088467597961426, -53.95613479614258, 18.1766357421875, -50.71257400512695, -35.1663932800293, 15.324786186218262, 71.91741943359375, 64.6268539428711, 9.038776397705078, 7.859499931335449, -13.020635604858398, -32.49131393432617, -31.97722816467285, -6.8336262702941895, -56.525726318359375, -1.2141127586364746, 5.272410869598389, -6.317684173583984, 15.94467544555664, 65.88549041748047, -40.44187927246094, -19.34325408935547, -52.83546829223633, -45.32198715209961, -42.118743896484375, -15.795222282409668, 84.89849090576172, -37.33963394165039, -71.38953399658203, -30.684284210205078, -52.8576545715332, 39.72153854370117, -63.980899810791016, -60.874916076660156, -86.43901062011719, 34.85216522216797, -5.587453842163086, -23.223487854003906, -26.139801025390625, 9.881872177124023, -21.73232650756836, 58.638423919677734, 66.15401458740234, 51.43423080444336, -14.125471115112305, 9.587522506713867, 37.24732208251953, 6.751173496246338, -3.5202693939208984, 62.11393356323242, -51.289554595947266, 15.255094528198242, 23.63204002380371, -66.7890625, -5.4164814949035645, 37.79549789428711, -1.284831166267395, 62.51470184326172, -4.33411979675293, 15.309919357299805, -24.989097595214844, 70.20653533935547, -48.99256134033203, 64.56043243408203, 62.084877014160156, -24.700199127197266, -11.601737976074219, 87.9471206665039, -39.394596099853516, -68.24006652832031, 72.25619506835938, 45.73324203491211, -17.37089729309082, -7.806002616882324, 55.461692810058594, -86.8298110961914, -70.11805725097656, 43.03461837768555, 40.94749069213867, -27.87544059753418, 20.487829208374023, -9.581013679504395, -74.76045989990234, -53.34031295776367, -11.952275276184082, -56.155418395996094, -56.22105407714844, -20.258710861206055, -16.828445434570312, 14.355463981628418, 49.841670989990234, -33.90673065185547, -17.56395721435547, 0.2518657147884369, -14.447290420532227, -48.13669204711914, 14.239036560058594, 53.2391357421875, 15.32454776763916, -82.9198226928711, 6.080169677734375, -27.532426834106445, -48.29180145263672, -26.710594177246094, 48.20966720581055, 11.777518272399902, 51.339969635009766, -25.061885833740234, 30.781475067138672, -18.31740951538086, 37.39399337768555, -72.26141357421875, -9.928122520446777, -39.7822265625, 56.57729721069336, 1.0278486013412476, -13.646465301513672, -77.61527252197266, -90.84194946289062, 41.017879486083984, -23.65071678161621, -37.589073181152344, 2.904212713241577, 36.674678802490234, -46.04728317260742, -20.320053100585938, 30.281497955322266, 12.672039985656738, -14.84114933013916, -88.05790710449219, 11.22302532196045, -29.540319442749023, 51.13994598388672, -5.8630805015563965, -8.323114395141602, 19.93144416809082, -37.87941360473633, 25.387922286987305, -34.98347473144531, 49.94554138183594, -26.08884620666504, 44.04594802856445, 55.50395584106445, -22.01803207397461, -44.833656311035156, 85.3681869506836, 29.861021041870117, 9.242483139038086, 62.7779426574707, 10.982922554016113, 81.34960174560547, 12.806997299194336, -7.77650785446167, 29.644697189331055, -6.298483371734619, 86.56806945800781, 49.37490463256836, -20.949628829956055, 19.203907012939453, 22.904333114624023, -38.77286148071289, 41.73501968383789, -28.32486915588379, 49.43888473510742, -33.733642578125, -82.13127136230469, -31.079933166503906, 78.26248168945312, -48.606834411621094, -5.008519649505615, -27.97228240966797, -90.09245300292969, 71.86196899414062, 55.3968505859375, -30.80496597290039, 13.230241775512695, -71.86644744873047, -39.99761199951172, -55.24846649169922, 71.73224639892578, 49.844295501708984, 42.670291900634766, -75.44197082519531, -31.852012634277344, 28.37380027770996, -99.0578842163086, 24.599876403808594, -7.650138854980469, -28.070674896240234, 25.74036979675293, -33.24245834350586, -44.78178787231445, -19.321229934692383, -61.122745513916016, 3.1111221313476562, 0.6443749666213989, 44.194820404052734, -21.833438873291016, -38.39320755004883, -35.23196029663086, -18.093582153320312, -49.069984436035156, 23.45303726196289, 62.03282165527344, -85.5230941772461, 59.79189682006836, 71.86715698242188, -12.582609176635742, -79.76695251464844, 39.661277770996094, 47.22377395629883, 15.455719947814941, -38.39823913574219, -55.35488510131836, 11.472583770751953, 61.630611419677734, -49.7658805847168, 31.65328598022461, -57.37941360473633, 34.1728401184082, -27.460813522338867, -32.31117248535156, -8.195087432861328, 73.73193359375, -72.12960052490234, -24.75656509399414, 6.092124938964844, -78.56686401367188, -46.144004821777344, 12.716277122497559, -49.69148254394531, 54.7021598815918, -84.20632934570312, 13.554996490478516, -24.70835304260254, 0.7153905630111694, -2.103278636932373, -20.3592586517334, -35.60220718383789, -68.85082244873047, 81.09455871582031, -8.312644004821777, 28.2659969329834, -30.69772720336914, -4.272872447967529, -6.992981433868408, 62.098873138427734, 27.541332244873047, -21.935529708862305, 59.02796936035156, 12.523881912231445, -72.86348724365234, 49.72483444213867, 16.246919631958008, -84.66635131835938, -85.03028106689453, -86.98245239257812, 27.137985229492188, -20.569154739379883, -13.29351806640625, -61.08396911621094, -18.389923095703125, 32.075477600097656, 16.29520606994629, 43.81712341308594, 7.303448677062988, -41.13911056518555, -44.78355407714844, 23.03872299194336, -25.284526824951172, 39.535240173339844, -4.253324508666992, -21.675479888916016, -62.31138229370117, -17.686738967895508, -6.3121185302734375, -4.485238075256348, 5.87042760848999, -62.20069885253906, -5.46542501449585, -73.61161804199219, -36.87049865722656, 57.441246032714844, -22.595666885375977, 42.4970817565918, -21.58967399597168, -25.821313858032227, 43.31450271606445, -57.93891906738281, -11.757196426391602, 49.6260986328125, 67.76580047607422, -28.51808738708496, -31.329988479614258, -70.70710754394531, -24.55150604248047, -8.133966445922852, 40.47669982910156, 12.660849571228027, 34.63832092285156, 1.7104929685592651, -38.367740631103516, -2.4537346363067627, -81.16600036621094, 64.07254028320312, -20.36458969116211, 15.875554084777832, -15.061911582946777, 1.0801154375076294, 70.1921615600586, 33.69449234008789, 35.10355758666992, -27.236623764038086, -46.495059967041016, -79.83395385742188, 72.63973999023438, -67.40354919433594, -43.688655853271484, 95.74845886230469, 53.49312973022461, 71.31742858886719, 22.84188461303711, 13.543185234069824, -22.51535415649414, -13.632917404174805, -85.89171600341797, -57.02914047241211, 29.719345092773438, -35.2265625, 66.9034423828125, -26.867116928100586, -25.103469848632812, 0.857448160648346, 31.23108673095703, 21.687772750854492, -47.65218734741211, -45.531761169433594, -86.58464813232422, 4.387588977813721, -33.68058776855469, -55.79045867919922, -7.479331016540527, 44.2918815612793, -13.643769264221191, -22.22306251525879, -68.96441650390625, -82.55130004882812, -2.054396867752075, 95.037109375, -13.361859321594238, 1.5032250881195068, -40.26412582397461, -79.83573150634766, 49.03559875488281, -71.19351959228516, 1.8183128833770752, -84.52688598632812, -65.59605407714844, -17.838726043701172, 69.40091705322266, 61.998355865478516, 35.85455322265625, -88.88578033447266, -44.082942962646484, 51.397315979003906, -19.753253936767578, -72.45891571044922, -83.45918273925781, 53.55278778076172, -53.10105895996094, -3.549440860748291, -89.21769714355469, 36.965858459472656, -30.801963806152344, 60.54810333251953, -16.80830955505371, -82.70946502685547, -66.41108703613281, 69.86930084228516, 39.2735595703125, -37.020545959472656, -59.0354118347168, -49.149169921875, -56.61418533325195, -12.520143508911133, -60.434791564941406, -5.52438497543335, -30.22826385498047, 18.394243240356445, 46.1688117980957, 75.46813201904297, -32.296260833740234, -56.593753814697266, 31.037752151489258, -92.02997589111328, -90.04931640625, -40.3618049621582, -22.400541305541992, 44.527774810791016, -61.139957427978516, 23.701602935791016, 85.18304443359375, 22.417924880981445, -32.27202224731445, 6.991995811462402, -8.03013801574707, -22.215890884399414, 56.16409683227539, 50.19902420043945, 14.592928886413574, -10.380627632141113, -3.084792137145996, 17.750741958618164, -87.82511138916016, 69.75004577636719, -89.94697570800781, -8.352265357971191, 21.442827224731445, 3.557035207748413, -87.8625259399414, -53.15864181518555, 17.59910011291504, -72.91022491455078, -15.281375885009766, -56.864620208740234, -33.93327331542969, 3.9428858757019043, -67.77790832519531, -50.2542839050293, -7.686088562011719, -77.90009307861328, 78.77092742919922, 40.0067253112793, -41.06448745727539, -65.44059753417969, 19.400148391723633, -64.74345397949219, 8.860549926757812, 49.047447204589844, 35.199745178222656, 1.5367711782455444, -11.648995399475098, 3.828918218612671, -67.6565170288086, 62.63368225097656, -58.34465789794922, 45.7360954284668, -81.2304916381836, -20.05771255493164, -7.373982906341553, 26.186067581176758, 55.78650665283203, 42.927452087402344, 7.410020351409912, 2.6890902519226074, 35.51544952392578, -26.936691284179688, 3.6875457763671875, 43.51527404785156, -29.09729766845703, 69.34709167480469, 26.377490997314453, 54.36478042602539, 71.71638488769531, 42.2110595703125, -84.50048065185547, -71.09851837158203, 38.42045211791992, 81.7714614868164, -14.798189163208008, -59.640411376953125, -26.408710479736328, 88.00146484375, -4.401180744171143, 23.626041412353516, 70.13615417480469, -19.3608455657959, 60.51441192626953, -77.80394744873047, -14.661949157714844, 22.056882858276367, -2.1106505393981934, -2.1778671741485596, -63.582740783691406, -61.39289855957031, -20.733173370361328, -33.90545654296875, 39.51737594604492, -53.713016510009766, -87.20664978027344, -25.12847328186035, 8.971879959106445, -86.99445343017578, -57.25334548950195, -23.369483947753906, -0.8208264708518982, 32.95006561279297, -69.87272644042969, -21.300735473632812, -16.82302474975586, -87.07565307617188, -23.269994735717773, -52.96842956542969, 9.24526596069336, -48.2227668762207, 63.575504302978516, 6.958235740661621, -6.168677806854248, -4.321683406829834, -0.7193000316619873, -36.08473205566406, -37.33189010620117, -34.286678314208984, 60.030521392822266, 18.03347396850586, -2.069256067276001, 27.11220359802246, 35.457923889160156, -40.08935546875, 4.868371486663818, -90.07748413085938, -15.503238677978516, -89.77823638916016, 75.54176330566406, -37.884483337402344, -89.13656616210938, -8.646496772766113, 14.254387855529785, 43.84315490722656, 0.2169676572084427, -58.48373031616211, 15.185543060302734, 11.520513534545898, 55.34199142456055, -70.92035675048828, -54.60335159301758, 72.2811508178711, 70.93183898925781, -37.02061080932617, 4.668938159942627, -47.91096496582031, -4.409476280212402, 34.02582931518555, 78.49738311767578, 25.880924224853516, -33.81066131591797, 91.79493713378906, 5.381896495819092, -15.712347984313965, 40.564231872558594, -47.49463653564453, 34.857234954833984, -21.05946159362793, -15.153122901916504, -49.20317840576172, 1.5392255783081055, 27.63380241394043, -91.4342041015625, -89.91788482666016, 35.68301773071289, -51.46163558959961, -19.601394653320312, -37.57709503173828, -6.5381293296813965, 60.7363395690918, -23.1245059967041, -88.58580780029297, -10.65578842163086, 54.28849411010742, -37.24803924560547, -21.688016891479492, -70.63421630859375, -73.82884216308594, -73.05992889404297, 64.17733764648438, 35.64336013793945, -28.303682327270508, -47.076412200927734, -56.44359588623047, -68.73728942871094, -14.735834121704102, 39.83646774291992, 30.02473258972168, -23.201438903808594, -70.48446655273438, 30.58742332458496, -15.772701263427734, -13.120315551757812, 6.58341646194458, 15.172225952148438, -59.31687927246094, -61.7061882019043, -8.418502807617188, -89.49589538574219, -17.400026321411133, 83.45182800292969, 24.96143341064453, -29.35416030883789, -40.285743713378906, -30.758806228637695, 29.52853012084961, -11.646416664123535, -66.4151840209961], \"xaxis\": \"x\", \"y\": [51.161312103271484, 59.12968063354492, 52.94493865966797, 34.41259002685547, 50.78409194946289, 48.85089874267578, 14.530707359313965, 79.06163787841797, 36.50733184814453, 58.29069900512695, 26.787630081176758, 53.1916389465332, 60.38316345214844, 15.08527946472168, 40.979122161865234, -6.822849273681641, 15.063851356506348, 4.38265323638916, 86.01251983642578, 58.0263671875, 52.04417037963867, 13.60903263092041, 26.70306968688965, -21.716182708740234, 13.951823234558105, 14.832588195800781, 78.29159545898438, 4.163218021392822, 55.23863220214844, -8.426865577697754, 62.232025146484375, 44.12637710571289, 58.03659439086914, 54.21900939941406, -8.736359596252441, 38.27756881713867, 34.80366897583008, 53.782100677490234, -16.38001823425293, 47.954349517822266, -30.04383087158203, 35.069271087646484, 34.23775863647461, 20.536880493164062, 54.09824752807617, 57.96607208251953, 0.8019016981124878, 40.86235809326172, 36.54878616333008, 31.173900604248047, 17.711172103881836, -7.182484149932861, -37.993839263916016, 67.49491119384766, 34.26670455932617, 81.28152465820312, -9.007417678833008, 26.47149658203125, 11.5924654006958, -19.566314697265625, 1.1005979776382446, 43.222511291503906, 58.11351776123047, -8.387227058410645, 15.324487686157227, 69.32278442382812, -21.746976852416992, 48.7064208984375, 71.21492767333984, -30.056068420410156, 4.456140518188477, 55.082645416259766, 66.82421112060547, 55.35065460205078, 58.23443603515625, 35.53583908081055, 55.30191421508789, 3.766691207885742, 68.54724884033203, 31.05289649963379, 32.52587890625, 14.119775772094727, 27.031597137451172, -8.376354217529297, 34.755123138427734, 80.80248260498047, 1.540001392364502, 4.4601569175720215, 80.95121002197266, 20.80436134338379, 3.0590007305145264, 9.84488296508789, 34.517581939697266, -8.407723426818848, 71.01436614990234, 36.882179260253906, 26.92891502380371, 69.53546142578125, -57.36821746826172, 81.6860580444336, 26.29400062561035, 8.959511756896973, 48.86758041381836, 72.5692367553711, 48.7907600402832, 1.421359658241272, 25.472089767456055, 0.7392626404762268, 69.98602294921875, 50.33351135253906, -38.02622985839844, 13.134209632873535, -20.967266082763672, 72.35542297363281, 66.38640594482422, 39.7927131652832, -7.972417831420898, 42.385536193847656, 60.771183013916016, 75.48135375976562, 26.316577911376953, 34.72700500488281, 55.30173110961914, 32.50736618041992, 15.04269027709961, 73.61294555664062, 2.470925807952881, 10.806008338928223, 11.580540657043457, 49.088584899902344, 44.326255798339844, 73.45453643798828, 51.605525970458984, -10.805557250976562, 27.043027877807617, 44.38599395751953, 17.31232452392578, 30.310848236083984, -28.842559814453125, 3.3030593395233154, -18.26888084411621, -5.188815593719482, 66.27083587646484, -7.756252765655518, -5.298916339874268, 44.166866302490234, -79.48564147949219, 57.60074996948242, 24.540971755981445, 14.411568641662598, 57.55060958862305, 53.4313850402832, 34.51430892944336, 39.273494720458984, 83.3782958984375, 26.93410873413086, -8.541536331176758, 77.22831726074219, 35.36701965332031, 53.512001037597656, 61.50761795043945, 1.4292538166046143, 44.002254486083984, 32.90342330932617, 28.894058227539062, 17.04219627380371, 47.16691589355469, 23.472484588623047, 58.84565734863281, 42.1289176940918, 46.748207092285156, -5.289954662322998, 11.006292343139648, 69.41207885742188, -16.29810333251953, 67.4817886352539, -19.553071975708008, 76.00859069824219, 58.19160079956055, -28.186386108398438, -45.44099044799805, -0.586847186088562, 46.33756637573242, 17.644277572631836, 75.06798553466797, 55.18605041503906, -49.766483306884766, -68.22014617919922, -44.821044921875, 50.504276275634766, 82.72633361816406, 58.031986236572266, 20.07008934020996, 8.342888832092285, -71.67597961425781, 48.91378402709961, 40.02255630493164, -4.853981018066406, 43.774169921875, 75.70729064941406, 38.382469177246094, 59.684730529785156, -57.06474304199219, -48.482879638671875, 39.700748443603516, 20.50968360900879, 37.441654205322266, 33.12102127075195, 10.899735450744629, 1.8294947147369385, -56.758628845214844, 89.23237609863281, -54.7681999206543, 75.27992248535156, -5.748927593231201, 58.74110412597656, -7.395257949829102, 87.71050262451172, -8.532867431640625, 86.79019165039062, -64.22599792480469, -34.39765548706055, -33.2390022277832, -28.58027458190918, -84.45986938476562, 10.808502197265625, 73.35747528076172, 50.082820892333984, 61.497615814208984, -46.3426513671875, -33.35523986816406, 26.786579132080078, -6.598680019378662, 12.973995208740234, -31.13469123840332, -3.552021026611328, -47.55692672729492, 42.87357711791992, 17.25114631652832, -3.0859456062316895, 36.40701675415039, 43.72703552246094, -64.58788299560547, 3.894531726837158, 70.03438568115234, -31.70428466796875, 10.286515235900879, 31.06514549255371, 47.06121826171875, -80.51559448242188, 45.655887603759766, 13.335773468017578, -33.091548919677734, -26.299755096435547, 54.60299301147461, 40.047794342041016, 9.841288566589355, -37.364803314208984, 10.143261909484863, 80.16729736328125, 14.506537437438965, 27.20054054260254, 68.42860412597656, 83.02811431884766, 59.98411178588867, 55.07148742675781, -50.17763137817383, 28.389171600341797, 5.229301452636719, 65.03192901611328, 41.82890701293945, -72.08519744873047, -54.42918014526367, -50.19923400878906, 21.213672637939453, -34.67121505737305, -45.219947814941406, -44.05042266845703, 36.1922607421875, -46.84151077270508, -52.79081344604492, 45.71688461303711, 20.484569549560547, 86.202880859375, 44.380104064941406, -47.45246124267578, -24.490602493286133, 50.21957015991211, 59.054378509521484, 70.76568603515625, 1.5686793327331543, 83.10586547851562, 38.972068786621094, 22.378942489624023, 3.4595861434936523, -13.982150077819824, 26.896053314208984, 40.683780670166016, 66.4054946899414, 15.886312484741211, 25.640949249267578, -53.52162551879883, -23.93662452697754, 44.6323356628418, -35.37944793701172, -57.3858528137207, 31.07567024230957, 29.316232681274414, 31.210180282592773, -8.961007118225098, -56.84554672241211, -54.885498046875, 47.41439437866211, 60.39665603637695, -10.329605102539062, -71.27385711669922, -39.06847381591797, 33.03226852416992, 87.80615234375, 43.1362190246582, 7.733295917510986, -3.9490725994110107, 21.74953269958496, 21.260101318359375, -12.509437561035156, -60.09744644165039, -64.21532440185547, 70.02786254882812, 15.757135391235352, -52.920345306396484, -72.50614929199219, -30.35832405090332, 38.64585876464844, -32.16106414794922, -28.847347259521484, 67.5763931274414, -17.60146713256836, -16.06083106994629, 29.538169860839844, 61.83279800415039, 60.53834915161133, 13.0208158493042, -43.943458557128906, 29.759973526000977, 77.37279510498047, 36.579254150390625, -80.23580932617188, 19.761085510253906, 10.646367073059082, -49.76787185668945, -44.19826889038086, 61.119293212890625, -33.575374603271484, -18.26705551147461, 5.627018451690674, 74.51795196533203, -16.983888626098633, -15.883854866027832, 83.79496765136719, 13.891790390014648, 42.50136184692383, -51.331085205078125, 77.67713165283203, 55.43974685668945, 72.72643280029297, -31.758342742919922, 59.609764099121094, -72.2882080078125, -81.08175659179688, 39.72661590576172, -85.42390441894531, 23.322004318237305, -66.22989654541016, -6.532437801361084, -12.845513343811035, 58.683345794677734, -13.799088478088379, -75.54566955566406, 38.8537483215332, -15.91057014465332, -47.65623092651367, -81.05964660644531, -0.8203105330467224, 12.53369426727295, 37.75373458862305, -2.3979361057281494, 38.6088752746582, -53.1678581237793, 15.951348304748535, -38.14114761352539, -30.460063934326172, 78.06646728515625, 60.329219818115234, -23.83965492248535, 32.624088287353516, 34.247337341308594, -77.14019775390625, -30.03561782836914, -76.12203979492188, 24.325931549072266, 6.481947422027588, 29.53362464904785, -24.42670440673828, -43.734195709228516, 87.82235717773438, -61.823402404785156, -30.51323127746582, 86.20437622070312, -72.38749694824219, -54.64461135864258, 45.02993392944336, 74.56238555908203, -23.144947052001953, -76.10466766357422, 4.006873607635498, -24.544361114501953, 2.8558506965637207, 16.11042022705078, 16.96803092956543, -6.0634894371032715, -6.095188617706299, 37.795047760009766, -61.12669372558594, 30.026517868041992, -29.14621353149414, 45.527587890625, -36.879005432128906, -45.674442291259766, -70.02159881591797, 13.295135498046875, -49.64891052246094, 22.02921485900879, 41.96653747558594, -24.94944953918457, 61.53766632080078, -68.66816711425781, 3.6892590522766113, -51.534080505371094, -38.14815139770508, -49.70893859863281, -29.67713737487793, -36.73506164550781, -9.165972709655762, -29.948110580444336, 40.90244674682617, -15.190186500549316, -9.915609359741211, -12.354087829589844, 24.32050132751465, 13.20343017578125, -13.933775901794434, -74.31355285644531, 53.53328323364258, 72.95549774169922, 10.392702102661133, -33.236698150634766, -17.057680130004883, 34.41697692871094, 75.09842681884766, 70.90533447265625, -14.8435697555542, 10.029704093933105, -38.71913146972656, 2.527334213256836, 44.0850830078125, -3.1983988285064697, -79.80455017089844, -31.636953353881836, -52.45478439331055, -5.136847019195557, -53.08903884887695, 58.66569900512695, 68.79670715332031, 5.529850959777832, 86.01004028320312, -66.962646484375, -1.4675735235214233, -46.2125244140625, -38.83098220825195, 37.34107208251953, -2.2744710445404053, 36.82068634033203, 82.63185119628906, -0.16076144576072693, -28.868940353393555, -65.03594207763672, -75.50267028808594, 16.214923858642578, 85.79383850097656, 64.16136932373047, -19.97500228881836, 5.744107723236084, -43.83946990966797, 81.99076080322266, 58.772560119628906, 51.315853118896484, -82.94159698486328, -46.586463928222656, 66.59020233154297, -70.53596496582031, 17.701377868652344, 55.93550109863281, -64.654052734375, -2.909787654876709, -60.99847412109375, 50.412193298339844, 87.56146240234375, -53.927730560302734, -6.526656150817871, 53.46537399291992, -35.77459716796875, -54.67650604248047, -46.794071197509766, 12.505911827087402, 76.3465576171875, 54.41514205932617, 79.34075164794922, -6.087608337402344, 59.2526969909668, 88.46607971191406, 45.188140869140625, 7.485482215881348, 36.89043426513672, -1.8015543222427368, -36.14472198486328, -32.18202590942383, 26.777292251586914, 31.19853973388672, 25.725139617919922, -19.066261291503906, -36.01833724975586, 29.856210708618164, -8.321799278259277, 38.56954574584961, -62.21852111816406, 40.43630599975586, -0.5334964394569397, -18.670848846435547, 39.78535842895508, 72.67402648925781, -26.284696578979492, -33.311946868896484, 47.408748626708984, 52.01291275024414, 20.197731018066406, -62.385189056396484, -36.119327545166016, 58.50239944458008, 47.41223907470703, 8.97231388092041, -34.140647888183594, -17.445276260375977, -88.67876434326172, 33.44259262084961, 98.36964416503906, -1.0460553169250488, 6.665101051330566, -47.54880142211914, -73.32836151123047, -57.30892562866211, -8.803153991699219, -35.9116096496582, 61.813636779785156, 12.888813018798828, -88.84562683105469, 0.28905341029167175, 67.18543243408203, -51.47995376586914, 65.69084930419922, 48.830020904541016, -64.17520141601562, -78.72484588623047, 45.07301712036133, 35.5777702331543, 1.1546077728271484, -14.241921424865723, 39.35805130004883, -16.45907974243164, -0.03967328742146492, -51.634151458740234, 1.1591774225234985, -35.687767028808594, -22.945045471191406, 43.2562141418457, -30.135988235473633, -72.62423706054688, 17.95026397705078, 61.52983856201172, -20.203298568725586, 21.766372680664062, 16.731517791748047, 5.511542797088623, -85.6260757446289, -85.57550048828125, 59.2410888671875, -83.80976867675781, 80.60188293457031, -15.849132537841797, 9.651448249816895, -3.8560566902160645, 77.79811096191406, 69.36366271972656, 70.16448974609375, 2.055248498916626, -72.18822479248047, 25.930517196655273, -59.28326416015625, 22.394298553466797, -61.984535217285156, -43.40853500366211, 45.71559143066406, 16.189136505126953, -59.223426818847656, 56.106903076171875, 65.93500518798828, -65.21471405029297, -34.77960968017578, 38.85459899902344, -37.93888473510742, -20.549076080322266, 83.79042053222656, -66.8065185546875, -26.184053421020508, -63.02849578857422, -18.456735610961914, -80.817626953125, -33.26788330078125, 7.622862339019775, 34.419979095458984, -44.93912887573242, -29.37751007080078, 87.58273315429688, -16.85204315185547, -62.28901672363281, -44.11075210571289, -45.37654495239258, 11.466592788696289, -61.27058029174805, 86.28565216064453, -28.335819244384766, 85.79552459716797, -33.39191436767578, 0.0360974445939064, 70.08516693115234, -7.493960857391357, 2.0340325832366943, 1.2234669923782349, -58.293861389160156, -32.248809814453125, 52.525753021240234, -47.74905776977539, 37.7824821472168, -57.79887771606445, -24.64915657043457, -66.13587951660156, -70.14796447753906, -34.687232971191406, -29.132061004638672, 20.559513092041016, 64.52361297607422, -45.19919204711914, 40.6939697265625, -62.44623565673828, -33.238677978515625, -36.89017868041992, -96.24177551269531, 4.883533000946045, -36.77131652832031, -14.161861419677734, -1.3718006610870361, -22.96306037902832, -55.011993408203125, -25.00307846069336, 15.372796058654785, 25.2413330078125, -46.72892379760742, -35.902244567871094, 29.315189361572266, 79.3226089477539, -23.684200286865234, -31.448347091674805, 4.371488571166992, -60.1892204284668, -36.44673538208008, -89.594970703125, 15.942706108093262, -38.965030670166016, 62.22498321533203, -10.351495742797852, -70.98324584960938, -18.80767059326172, 18.82396125793457, 75.34082794189453, -24.05725860595703, 36.474605560302734, -16.79283905029297, 62.80091094970703, -66.02456665039062, 82.11164855957031, 42.37327194213867, -4.17001485824585, 41.45575714111328, 61.243980407714844, -37.97275161743164, -29.615455627441406, 45.527427673339844, -38.34042739868164, 0.46466028690338135, -18.68357276916504, 46.271976470947266, -62.55214309692383, 32.127681732177734, 41.64657211303711, -71.53641510009766, 13.408236503601074, -86.72869873046875, -65.72716522216797, -83.14710235595703, -5.234905242919922, -55.20502853393555, 28.2302303314209, 65.94696044921875, 86.21089172363281, -38.36518096923828, 51.68484878540039, -39.79214859008789, -8.550860404968262, -44.828216552734375, -5.7482075691223145, 18.852998733520508, 47.67746353149414, -73.38871765136719, -37.953338623046875, 24.81187629699707, 9.985990524291992, 29.46774673461914, 16.342166900634766, -12.509812355041504, -71.82581329345703, 32.77001953125, 9.302610397338867, -46.08264923095703, 67.18978881835938, -41.711456298828125, 10.112058639526367, 50.774658203125, 61.785400390625, -32.561317443847656, -51.52036666870117, 54.82666778564453, -62.63336181640625, -36.210350036621094, -2.1122119426727295, -30.092296600341797, 10.607073783874512, 7.268136978149414, 62.87809753417969, 87.52391815185547, -61.05867004394531, -85.01715087890625, -80.83583068847656, -29.711074829101562, -18.020606994628906, 43.69511795043945, -46.431148529052734, 55.84872055053711, -73.08170318603516, 14.11363410949707, -51.317325592041016, -54.31523895263672, 69.78845977783203, 5.646082878112793, 8.948934555053711, 10.562883377075195, -36.27961349487305, -17.362913131713867, -9.426565170288086, 27.221797943115234, -56.14324951171875, -62.869529724121094, 66.2912826538086, 30.0963077545166, -38.73511505126953, -48.10487365722656, -18.68988037109375, -46.91830825805664, 2.625871419906616, -45.62548065185547, 40.16460037231445, 43.76445388793945, -8.741077423095703, -5.0158772468566895, 21.833921432495117, -84.16573333740234, -20.284141540527344, -70.29682159423828, -60.8487663269043, -29.707170486450195, 66.59766387939453, 39.53387451171875, 12.661109924316406, -66.80752563476562, -61.61843490600586, -33.068687438964844, 34.76116180419922, 23.669599533081055, 24.25905990600586, -15.206343650817871, -0.950626015663147, -3.686577081680298, 51.19487762451172, -52.872032165527344, 29.417789459228516, 61.19831848144531, 27.848602294921875, -43.36546325683594, -58.49941635131836, 86.43527221679688, -1.1581417322158813, -28.57417869567871, 7.5917510986328125, -24.263893127441406, 78.19064331054688, 38.04521560668945, 28.18990707397461, -26.11085319519043, -24.908111572265625, -2.4358978271484375, 87.64401245117188, -3.493410348892212, -20.94451332092285, -1.3072255849838257, -0.936470627784729, -44.979793548583984, 10.384384155273438, 39.9306526184082, 46.55718994140625, -7.411381244659424, -29.034862518310547, -45.589290618896484, -34.58429718017578, 25.462112426757812, 27.84187126159668, 39.302452087402344, -49.144065856933594, 22.106645584106445, 25.27008056640625, -24.967449188232422, 23.318466186523438, 87.41315460205078, -2.913522481918335, -84.16073608398438, 14.73159122467041, -71.85816192626953, -31.426965713500977, -13.369264602661133, -52.6558723449707, -45.82300567626953, 32.764400482177734, -18.75676727294922, 27.118755340576172, -58.41334533691406, -86.65116119384766, 43.16237258911133, -36.181182861328125, 62.818790435791016, -78.403076171875, -32.24677276611328, 5.238560199737549, 73.0228042602539, -78.24638366699219, 53.993812561035156, -32.88161087036133, 82.77735137939453, -34.44661331176758, 38.970829010009766, -56.934486389160156, -64.94105529785156, 14.425128936767578, -66.14786529541016, 62.701595306396484, 34.7885627746582, -16.751741409301758, -54.97771072387695, -59.532291412353516, -2.426476001739502, 31.95902442932129, -74.84708404541016, 12.01025676727295, -82.7842025756836, 69.1071548461914, 16.129566192626953, 33.66315841674805, -62.773555755615234, 9.92274284362793, 60.98754119873047, 74.69918060302734, -96.29088592529297, 21.053686141967773, -55.48084259033203, 25.11594581604004, 33.869346618652344, -56.12311553955078, -33.202632904052734, -19.243844985961914, -17.44062042236328, 89.23432159423828, -35.992462158203125, -7.389499187469482, -55.743072509765625, 13.65207576751709, 27.995267868041992, 49.190887451171875, 6.905569076538086, 88.70869445800781, -29.86286735534668, 8.414572715759277, -77.15614318847656, -45.27773666381836, -76.34803771972656, -88.58917236328125, -69.52631378173828, -57.34884262084961, -44.19807434082031, -80.9029312133789, 87.0873794555664, 31.63233757019043, -18.141582489013672, -7.815463066101074, 3.8096554279327393, -51.822139739990234, -70.43516540527344, -37.308021545410156, 27.93797492980957, -63.595237731933594, 61.938812255859375, -3.1951425075531006, 15.744710922241211, 39.64461898803711, -70.3187026977539, 67.03163146972656, 65.68302917480469, -84.76862335205078, 75.10734558105469, -22.122892379760742, 52.701934814453125, 37.45092010498047, -0.7910681366920471, -30.23149871826172, 57.93440628051758, -35.62064743041992, 3.4049694538116455, 35.924842834472656, 22.313154220581055, 16.36903953552246, -13.64709186553955, -54.54159927368164, 10.861394882202148, 70.92085266113281, 80.4710922241211, -39.78749465942383, -33.99325942993164, -44.116676330566406, 24.54319953918457, -18.076656341552734, 22.647613525390625, -55.17603302001953, 17.5123291015625, -84.2865219116211, -4.66871976852417, 24.885847091674805, 20.30266571044922, 2.6187963485717773, 34.740577697753906, 42.40771484375, 27.115962982177734, -60.658843994140625, -49.51990509033203, -55.990177154541016, -50.211517333984375, 68.87847900390625, -4.139033794403076, -16.32912254333496, -72.18470001220703, -68.18604278564453, -7.616226673126221, 88.91732788085938, -32.92496871948242, -11.026788711547852, -62.71737289428711, -38.248680114746094, 5.3458733558654785, -34.977962493896484, -87.32470703125, 66.50155639648438, -8.68901252746582, 52.47140884399414, 4.553662300109863, -23.617034912109375, 50.89802932739258, 16.590316772460938, -89.69564819335938, -8.743953704833984, -56.21812438964844, -65.94129180908203, -68.08765411376953, -0.26587820053100586, -47.876556396484375, 21.146629333496094, -55.35403060913086, 83.99835968017578, 27.956640243530273, 88.69864654541016, -57.01191711425781, 5.474554061889648, 38.33908462524414, -34.08895492553711, -34.71519088745117, 74.84000396728516, -32.05177688598633, -94.27534484863281, -63.68273162841797, 15.29313850402832, -76.99678039550781, -20.2489013671875, -15.983485221862793, -13.436214447021484, 62.708072662353516, 5.800042152404785, -74.25823211669922, 24.03203773498535, -43.9338264465332, 20.295377731323242, -44.086753845214844, -64.24903106689453, 38.53477478027344, -45.54588317871094, 3.2698137760162354, -40.31180953979492, 2.908010244369507, -40.71187973022461, 10.952385902404785, -17.003944396972656, 32.185707092285156, -53.80080795288086, 19.482765197753906, 83.96825408935547, -55.2615852355957, 46.49563217163086, 0.2414313554763794, 38.192527770996094, 2.7790145874023438, 25.39613151550293, -72.19799041748047, -7.899021148681641, 0.9886869788169861, -28.55915641784668, 13.579071998596191, -71.84957122802734, 85.82440185546875, -56.828125, -25.56029510498047, -9.14090347290039, -28.41034507751465, -6.734866142272949, -25.99393081665039, 71.91764831542969, 7.893979549407959, -16.772815704345703, 53.196598052978516, 29.229854583740234, -25.157405853271484, -21.518728256225586, 22.030794143676758, -55.66374588012695, 40.065643310546875, 7.530272960662842, 87.1865234375, 19.599634170532227, 5.61311149597168, -78.05882263183594, 49.19496536254883, -8.26936149597168, -39.92894744873047, 28.474653244018555, 5.40671968460083, 33.359066009521484, -46.26982879638672, 14.518866539001465, 11.686059951782227, -65.24067687988281, -0.13546229898929596, 47.772274017333984, -84.50745391845703, -70.2206039428711, -79.4828872680664, 20.510805130004883, -9.419625282287598, -48.77375793457031, -70.43365478515625, -72.9894790649414, 27.673095703125, -85.67288208007812, -76.68778991699219, -18.67713737487793, 89.85320281982422, -26.42437744140625, 89.74996185302734, -79.91802978515625, -25.600236892700195, 58.91224670410156, 23.750022888183594, -49.107826232910156, -60.73184585571289, -12.123969078063965, -1.713725209236145, 49.56752014160156, 87.10084533691406, 42.4354362487793, -56.1489372253418, -25.226211547851562, 78.38195037841797, -72.96717834472656, 26.019859313964844, -18.34568214416504, -69.75955963134766, -87.9982681274414, 24.55224609375, 23.078691482543945, -48.27534103393555, 75.8763427734375, -87.94709777832031, -2.4429924488067627, 4.380355358123779, 48.519691467285156, -25.361038208007812, 20.298351287841797, 14.732396125793457, -38.70539474487305, 20.23196029663086, -87.13776397705078, 52.013153076171875, -76.17118072509766, -16.738887786865234, -14.279781341552734, -52.90203857421875, 26.809961318969727, 41.96979522705078, -71.184326171875, -58.401390075683594, -44.760040283203125, 42.8636474609375, -69.26782989501953, -36.302955627441406, 30.67441177368164, 12.03380298614502, 26.90068244934082, -32.64828109741211, -5.532785892486572, 59.23124313354492, -28.764829635620117, -27.709110260009766, -58.38269805908203, -53.986568450927734, -23.412124633789062, 14.210095405578613, 86.69673156738281, 9.849160194396973, -20.45672607421875, 89.74143981933594, 7.922412395477295, -85.3620376586914, -76.75658416748047, -67.51133728027344, 11.43819808959961, 50.911869049072266, 44.69546890258789, 19.78830337524414, -77.67436218261719, -14.110145568847656, -27.575605392456055, -17.33858299255371, -54.747955322265625, 34.98553466796875, -76.69550323486328, -50.36104202270508, -17.959726333618164, 29.85703468322754, 38.92327880859375, -4.34024715423584, -25.81162452697754, 51.60702133178711, 27.802614212036133, -62.664188385009766, -21.467784881591797, -62.32898712158203, 28.213180541992188, -43.407772064208984, 24.806476593017578, 76.1456527709961, 10.978067398071289, -7.168324947357178, 81.83573913574219, -46.13827896118164, -23.190649032592773, 52.854164123535156, -18.819242477416992, 60.15988540649414, 76.30490112304688, 25.23257827758789, 10.529934883117676, 69.95716094970703, -70.01966857910156, -8.729743957519531, -24.337200164794922, 76.53305053710938, -56.39193344116211, 40.73948287963867, -43.93143844604492, -70.14946746826172, -55.18730163574219, 2.7576401233673096, 25.811172485351562, 27.93610382080078, 24.373058319091797, -14.962373733520508, -26.2895450592041, -88.21683502197266, -4.431694984436035, 36.81515121459961, 53.645301818847656, 7.303708553314209, -6.402944087982178, 59.13302993774414, -26.342615127563477, -32.49332046508789, -64.30416107177734, -26.228668212890625, -33.07991027832031, -24.426624298095703, 36.08348083496094, 19.577144622802734, -42.53497314453125, -4.947606086730957, -83.49087524414062, 78.59413146972656, 27.26431655883789, 41.99244689941406, -70.46971893310547, -36.711402893066406, -16.936664581298828, -26.308820724487305, 4.67458438873291, 5.828810691833496, -81.1525650024414, -53.03463363647461, 57.06940841674805, -45.7562255859375, -17.220596313476562, -70.31964111328125, 52.95262908935547, 61.839603424072266, -53.0718879699707, -26.291439056396484, 25.319923400878906, 72.40266418457031, 87.34730529785156, 33.533329010009766, 12.97142219543457, 71.22501373291016, 42.49430465698242, 1.762850284576416, -34.059471130371094, -84.76773834228516, 39.335594177246094, -46.390625, -35.43191909790039, -8.327392578125, -40.155975341796875, -16.02511215209961, 38.69185256958008, -54.62787628173828, -18.7557430267334, -18.07320213317871, -53.12881851196289, -26.188785552978516, -73.65978240966797, -49.968963623046875, 5.090771198272705, -3.441544771194458, -66.49510955810547, -79.47460174560547, -49.72705841064453, -69.42839813232422, -14.497983932495117, 64.00373077392578, -82.57484436035156, -55.4890251159668, -50.35791778564453, 28.107555389404297, -14.246150016784668, -32.236000061035156, -2.091609477996826, 6.261493682861328, -30.506479263305664, -2.2574217319488525, -32.09520721435547, -49.767215728759766, 0.8527454733848572, -16.103275299072266, -59.35772705078125, 16.156293869018555, 52.28911209106445, -8.538970947265625, 14.587089538574219, 98.34855651855469, -44.28570556640625, -17.267597198486328, 30.623245239257812, 9.037657737731934, -71.7060317993164, 10.671741485595703, -56.63862228393555, 10.932700157165527, -26.54081916809082, -73.20999145507812, 70.15470123291016, 66.66395568847656, 32.9018669128418, 64.65937042236328, -25.41912078857422, -94.88273620605469, -45.3665657043457, 33.26302719116211, -7.363280773162842, -63.657657623291016, 13.553102493286133, 0.08655256778001785, 52.9094123840332, 24.64285659790039, 3.182253360748291, -1.2637066841125488, 67.38040161132812, -26.884023666381836, 55.99690246582031, 8.074244499206543, -4.160241603851318, 32.78965759277344, 15.32126235961914, 76.9756088256836, 14.744274139404297, 31.700204849243164, 37.37975311279297, -40.32306671142578, -84.28950500488281, 32.26329040527344, -31.538597106933594, 11.37800121307373, -15.845532417297363, 14.17827033996582, -14.532843589782715, 70.80130004882812, -64.7468032836914, -63.94056701660156, 61.23147964477539, -17.991430282592773, 10.868597030639648, 72.95653533935547, 61.08467102050781, -3.5089197158813477, -15.89441204071045, 1.5808519124984741, 6.794419765472412, -83.59558868408203, -58.5105094909668, -0.41159602999687195, -44.20462417602539, 69.94305419921875, 15.285432815551758, 87.29533386230469, -79.06713104248047, -3.313052177429199, 19.58442497253418, -62.97129821777344, -52.44464874267578, 52.55546569824219, 12.301777839660645, -65.53780364990234, -76.32858276367188, -27.7263240814209, 40.634788513183594, -44.97642135620117, -73.26747131347656, 23.592493057250977, 13.116168022155762, -8.09360122680664, 62.32184982299805, -39.417781829833984, -59.21990203857422, -85.93265533447266, -51.17575454711914, 48.589881896972656, -43.441802978515625, -18.43366050720215, -28.520475387573242, 27.879409790039062, -74.54719543457031, -50.76072311401367, 53.57145309448242, -72.51044464111328, -7.720979690551758, -61.47301483154297, -14.815876007080078, -30.563634872436523, 51.132835388183594, -65.61736297607422, -7.168840408325195, -8.975160598754883, 69.3098373413086, -81.99190521240234, 6.669242858886719, 38.927764892578125, -12.136228561401367, -9.627866744995117, -8.167285919189453, -36.017982482910156, 85.97071838378906, -0.38786420226097107, -89.5546646118164, -51.44900131225586, -7.329337120056152, 9.786659240722656, -32.38084411621094, 12.4790678024292, 28.94843101501465, -7.175337791442871, -2.3206679821014404, -17.156627655029297, 59.83126449584961, 38.94179916381836, 71.25944519042969, 62.35702896118164, 29.320112228393555, -40.349422454833984, -7.27051305770874, -78.99711608886719, 25.373971939086914, -32.94739532470703, -66.9960708618164, -5.7134809494018555, -56.518951416015625, -19.61773109436035, 5.466639518737793, -77.59771728515625, 15.992671966552734, 11.533090591430664, -43.63420867919922, -5.0460591316223145, 63.36941909790039, -6.531979084014893, -36.11006164550781, 25.364534378051758, -77.61121368408203, -51.690452575683594, 19.918306350708008, -75.55204010009766, -30.228763580322266, 2.259219169616699, -43.202884674072266, -73.3894271850586, -52.94959259033203, 6.332231044769287, -12.772894859313965, -53.3721923828125, 25.233327865600586, 40.39436340332031, 90.89013671875, 40.515174865722656, 35.06940460205078, 6.63978910446167, 29.317651748657227, -76.14019012451172, -27.711652755737305, -61.47500991821289, -31.557680130004883, 86.7100601196289, -76.76661682128906, -23.41152572631836, -51.28670883178711, 15.374792098999023, -5.04744815826416, 83.49044036865234, 16.402910232543945, -48.10795211791992, 7.636215686798096, 54.42416763305664, -58.88320541381836, -44.59182357788086, 7.047098159790039, -69.06893920898438, -66.45928955078125, -23.23257827758789, -9.029186248779297, 83.41300201416016, 71.27095794677734, -20.620637893676758, -33.091312408447266, 38.21248245239258, -1.7129582166671753, -44.46984100341797, -40.93107986450195, 69.66923522949219, -14.958528518676758, -6.685398578643799, -18.10220718383789, -13.026175498962402, -54.052452087402344, -13.706997871398926, -26.217777252197266, -65.6589126586914, 58.79138946533203, -57.81080627441406, 56.68896484375, -0.9803662300109863, -12.979434967041016, -76.2711410522461, 5.8847575187683105, -66.64610290527344, -50.09044647216797, -24.57640266418457, -22.118635177612305, 29.275484085083008, -17.521610260009766, 75.9450912475586, 39.03315353393555, -34.09272384643555, 33.3851203918457, -68.01133728027344, 59.07069396972656, -47.96335983276367, -1.0781570672988892, 36.75360107421875, 3.526937484741211, 9.300081253051758, -58.630550384521484, -38.95069885253906, 34.384220123291016, -29.992698669433594, 45.56867218017578, 5.425174713134766, 76.02836608886719, 51.41305923461914, 21.95148277282715, 18.00680923461914, -20.577796936035156, -87.18670654296875, 12.414822578430176, 22.088834762573242, 29.74217987060547, 77.59122467041016, 33.477264404296875, -2.835601329803467, -58.63715362548828, -84.0860366821289, -47.4156494140625, -29.41290855407715, -64.6798324584961, 91.0685043334961, -3.017448902130127, 47.2818603515625, -35.60517501831055, -16.756145477294922, -36.056640625, 11.721312522888184, 0.4962102770805359, 2.152576208114624, 37.01326370239258, 58.509185791015625, 31.07770347595215, -5.630425930023193, -2.024151086807251, 3.070847272872925, 12.684767723083496, -49.51951599121094, 58.360538482666016, 77.81363677978516, 50.384552001953125, -31.20323371887207, -15.551809310913086, -58.21211242675781, -65.02716827392578, 7.530359745025635, -13.304296493530273, 9.870888710021973, -70.38555908203125, -17.672470092773438, 48.67158126831055, 22.344057083129883, -68.94456481933594, 86.57642364501953, 2.197727680206299, 23.359102249145508, -4.6561713218688965, 62.780242919921875, 87.97003173828125, -8.179527282714844, 5.242215156555176, 16.231340408325195, 23.438709259033203, -17.6621036529541, 1.6713566780090332, 87.95331573486328, -35.27141571044922, -69.51016998291016, -68.1876449584961, -36.579471588134766, 82.8436508178711, 83.98249816894531, 21.646692276000977, -69.09979248046875, -51.759498596191406, 12.860291481018066, 27.50834846496582, -52.887733459472656, -8.367880821228027, -56.25058364868164, -37.09098815917969, -82.80484771728516, 6.889509677886963, 15.08632755279541, 26.9615421295166, 56.02592468261719, -57.18635177612305, -87.4293212890625, -60.05888366699219, -57.53069305419922, -28.427371978759766, 19.632230758666992, 60.54645538330078, -61.940372467041016, -11.018965721130371, -43.32512283325195, -77.45707702636719, 39.18440628051758, 87.63436889648438, 30.982730865478516, 60.84236145019531, -37.430484771728516, -26.89692497253418, 3.5017528533935547, -64.03330993652344, -33.1502571105957, 25.34897232055664, -33.6139030456543, 1.9032213687896729, -57.99660873413086, 72.8145980834961, -63.63396072387695, 53.865116119384766, 74.90831756591797, 24.391925811767578, 10.041131019592285, 2.975282907485962, 17.717876434326172, -15.546597480773926, -12.292610168457031, 42.557003021240234, 48.021671295166016, -82.12493133544922, 26.534320831298828, -5.249070644378662, -64.50297546386719, -30.270526885986328, -46.132171630859375, 42.42359161376953, -57.35002517700195, -27.911169052124023, -26.26010513305664, 69.46733856201172, -48.584468841552734, 26.801733016967773, -65.1096420288086, -52.96177291870117, 54.9586067199707, -12.685866355895996, 12.888495445251465, 20.162578582763672, -25.35504913330078, 17.434595108032227, 91.20264434814453, -84.0313491821289, -8.749835014343262, -26.333072662353516, -20.577754974365234, 47.25880432128906, -12.990097045898438, 65.1304702758789, 62.978904724121094, -75.58892059326172, 57.25091552734375, 17.790481567382812, 30.736764907836914, 75.34053039550781, -65.04608917236328, 34.57248306274414, -79.49125671386719, -24.220815658569336, -48.49236297607422, 90.3014144897461, -64.10940551757812, -3.6258137226104736, -42.63371276855469, 44.08062744140625, 27.387954711914062, 16.112762451171875, -17.213218688964844, -59.60792541503906, -18.241962432861328, 79.13053894042969, -35.304290771484375, -44.08804702758789, 61.48032760620117, -35.15420150756836, -48.04684829711914, -0.9946492910385132, 33.05903244018555, 52.599205017089844, -44.736595153808594, 16.340402603149414, -22.86713981628418, -18.012985229492188, -31.543498992919922, -34.24617004394531, 30.528383255004883, 9.008830070495605, -34.51055145263672, -60.859947204589844, -28.457904815673828, -76.89403533935547, -1.490868330001831, 6.928151607513428, -44.44254684448242, 40.28812026977539, -59.033119201660156, -92.00956726074219, 0.0804021954536438, 46.62074279785156, 44.3867073059082, 0.4115026593208313, -42.63472366333008, -4.040194511413574, 1.20235013961792, -45.08437728881836, 27.04523277282715, -30.11838150024414, 23.09512710571289, 12.576849937438965, -35.64187240600586, -68.87904357910156, -11.497721672058105, 62.25358200073242, 5.025126934051514, -34.81853485107422, 13.708712577819824, 16.08025360107422, 65.63680267333984, 0.4808843433856964, 11.03958511352539, -11.183197021484375, 77.98737335205078, 22.32718276977539, -64.35431671142578, -52.6408805847168, -58.44977951049805, -25.48741912841797, 49.879371643066406, -73.86589050292969, -9.202112197875977, 27.219684600830078, -9.624021530151367, -25.867786407470703, 21.234844207763672, -16.831727981567383, -7.419958114624023, -16.697132110595703, -34.80339813232422, 39.224971771240234, -16.861555099487305, -83.66020965576172, 1.0515692234039307, -23.93722152709961, -13.842608451843262, -0.019919974729418755, -8.954079627990723, 30.168495178222656, -33.15404510498047, -16.16855812072754, 61.736351013183594, 37.86759567260742, 80.11540222167969, 53.8814811706543, 2.9103124141693115, 29.085294723510742, -45.38453674316406, -34.78466033935547, 74.21267700195312, 55.79692459106445, -63.50979995727539, -74.81549835205078, 30.186847686767578, -12.252605438232422, 9.540312767028809, 3.0283162593841553, -83.90013885498047, 47.546546936035156, 50.36134338378906, -35.303985595703125, -36.818660736083984, -57.616424560546875, 4.409477233886719, 30.306182861328125, -81.36859893798828, 21.27534294128418, -52.59881591796875, 10.947515487670898, -25.990596771240234, 6.198582172393799, 8.927783012390137, -14.275933265686035, -14.221135139465332, 17.780031204223633, -57.85099411010742, -56.994163513183594, -52.132205963134766, -20.005897521972656, -4.17917013168335, -45.983455657958984, 63.22636032104492, 19.987016677856445, -67.03507232666016, 27.488304138183594, 65.46084594726562, -48.37833786010742, -43.20084762573242, 17.550582885742188, -36.9314079284668, -10.285443305969238, -2.1337459087371826, -47.93634033203125, -11.990036010742188, -34.267234802246094, 15.255148887634277, -23.102203369140625, 46.777801513671875, -38.27614212036133, -30.352069854736328, -37.85863494873047, 13.091521263122559, -78.63298034667969, -36.83388137817383, 37.0159797668457, 58.03880310058594, -32.887489318847656, 42.22829818725586, -26.972654342651367, 4.109975337982178, -0.9550340175628662, 32.07313919067383, -65.00164794921875, -10.526161193847656, 86.84667205810547, -56.08147048950195, 47.95872497558594, 69.24344635009766, -64.34194946289062, -3.6660733222961426, -88.43026733398438, -5.1400628089904785, -31.13377571105957, 57.203163146972656, 52.94794464111328, 52.831356048583984, -21.525846481323242, -51.708404541015625, -54.68121337890625, 1.0300037860870361, 6.984154224395752, 72.11380767822266, 89.03911590576172, 7.4984235763549805, -36.62830352783203, 40.13484191894531, -88.61750030517578, 65.98673248291016, 39.713382720947266, 42.58880615234375, -38.23653030395508, -34.0061149597168, -19.354333877563477, 36.27498245239258, -58.63693618774414, 54.35904312133789, -29.680601119995117, -45.04569625854492, -20.821199417114258, 21.08420181274414, -15.528897285461426, -33.11220932006836, -64.04842376708984, 31.33993148803711, 59.54197311401367, -24.605897903442383, -92.03723907470703, 35.56388473510742, 32.87024688720703, -50.83189392089844, -0.22184133529663086, -3.2025232315063477, -46.16350555419922, 1.0786398649215698, -23.4022274017334, 36.08022689819336, -8.545334815979004, -85.60002899169922, -50.780372619628906, -2.9946415424346924, 64.11720275878906, 32.340057373046875, -45.18108367919922, 9.646364212036133, -62.122615814208984, 1.2744060754776, -81.35332489013672, -54.122520446777344, -25.224763870239258, 35.221153259277344, -7.963391304016113, -2.350534200668335, -68.82872009277344, -47.921695709228516, -14.768023490905762, 15.838170051574707, 45.68437957763672, -0.4095039367675781, -65.2685546875, -38.12009811401367, 24.01681900024414, -0.34173545241355896, -32.375892639160156, 9.483150482177734, 14.196533203125, 46.71065902709961, -57.055294036865234, -61.71695327758789, 20.50727653503418, 3.9088830947875977, -69.10294342041016, 15.372817993164062, 56.4019889831543, -46.00877380371094, 58.91936492919922, -32.20330810546875, 1.519482970237732, -11.804341316223145, -65.64099884033203, 14.761418342590332, -30.033634185791016, 40.75196075439453, 9.96174430847168, -26.076568603515625, -4.158510684967041, 6.816158771514893, 65.42705535888672, 13.252701759338379, 48.43294906616211, 31.98465919494629, 40.350494384765625, 23.985742568969727, 15.606931686401367, -56.81735610961914, -42.735939025878906, 42.05876541137695, -21.637136459350586, -26.056119918823242, -49.88618850708008, -52.93448257446289, 55.46754837036133, -15.161903381347656, -62.90046310424805, -53.474822998046875, 0.9573093056678772, -7.217689037322998, 6.885747909545898, 22.314180374145508, 43.46246337890625, 77.10397338867188, 64.80530548095703, 79.40501403808594, -17.02821922302246, -57.72486114501953], \"yaxis\": \"y\"}],\n",
              "                        {\"legend\": {\"tracegroupgap\": 0}, \"margin\": {\"t\": 60}, \"template\": {\"data\": {\"bar\": [{\"error_x\": {\"color\": \"#2a3f5f\"}, \"error_y\": {\"color\": \"#2a3f5f\"}, \"marker\": {\"line\": {\"color\": \"#E5ECF6\", \"width\": 0.5}}, \"type\": \"bar\"}], \"barpolar\": [{\"marker\": {\"line\": {\"color\": \"#E5ECF6\", \"width\": 0.5}}, \"type\": \"barpolar\"}], \"carpet\": [{\"aaxis\": {\"endlinecolor\": \"#2a3f5f\", \"gridcolor\": \"white\", \"linecolor\": \"white\", \"minorgridcolor\": \"white\", \"startlinecolor\": \"#2a3f5f\"}, \"baxis\": {\"endlinecolor\": \"#2a3f5f\", \"gridcolor\": \"white\", \"linecolor\": \"white\", \"minorgridcolor\": \"white\", \"startlinecolor\": \"#2a3f5f\"}, \"type\": \"carpet\"}], \"choropleth\": [{\"colorbar\": {\"outlinewidth\": 0, \"ticks\": \"\"}, \"type\": \"choropleth\"}], \"contour\": [{\"colorbar\": {\"outlinewidth\": 0, \"ticks\": \"\"}, \"colorscale\": [[0.0, \"#0d0887\"], [0.1111111111111111, \"#46039f\"], [0.2222222222222222, \"#7201a8\"], [0.3333333333333333, \"#9c179e\"], [0.4444444444444444, \"#bd3786\"], [0.5555555555555556, \"#d8576b\"], [0.6666666666666666, \"#ed7953\"], [0.7777777777777778, \"#fb9f3a\"], [0.8888888888888888, \"#fdca26\"], [1.0, \"#f0f921\"]], \"type\": \"contour\"}], \"contourcarpet\": [{\"colorbar\": {\"outlinewidth\": 0, \"ticks\": \"\"}, \"type\": \"contourcarpet\"}], \"heatmap\": [{\"colorbar\": {\"outlinewidth\": 0, \"ticks\": \"\"}, \"colorscale\": [[0.0, \"#0d0887\"], [0.1111111111111111, \"#46039f\"], [0.2222222222222222, \"#7201a8\"], [0.3333333333333333, \"#9c179e\"], [0.4444444444444444, \"#bd3786\"], [0.5555555555555556, \"#d8576b\"], [0.6666666666666666, \"#ed7953\"], [0.7777777777777778, \"#fb9f3a\"], [0.8888888888888888, \"#fdca26\"], [1.0, \"#f0f921\"]], \"type\": \"heatmap\"}], \"heatmapgl\": [{\"colorbar\": {\"outlinewidth\": 0, \"ticks\": \"\"}, \"colorscale\": [[0.0, \"#0d0887\"], [0.1111111111111111, \"#46039f\"], [0.2222222222222222, \"#7201a8\"], [0.3333333333333333, \"#9c179e\"], [0.4444444444444444, \"#bd3786\"], [0.5555555555555556, \"#d8576b\"], [0.6666666666666666, \"#ed7953\"], [0.7777777777777778, \"#fb9f3a\"], [0.8888888888888888, \"#fdca26\"], [1.0, \"#f0f921\"]], \"type\": \"heatmapgl\"}], \"histogram\": [{\"marker\": {\"colorbar\": {\"outlinewidth\": 0, \"ticks\": \"\"}}, \"type\": \"histogram\"}], \"histogram2d\": [{\"colorbar\": {\"outlinewidth\": 0, \"ticks\": \"\"}, \"colorscale\": [[0.0, \"#0d0887\"], [0.1111111111111111, \"#46039f\"], [0.2222222222222222, \"#7201a8\"], [0.3333333333333333, \"#9c179e\"], [0.4444444444444444, \"#bd3786\"], [0.5555555555555556, \"#d8576b\"], [0.6666666666666666, \"#ed7953\"], [0.7777777777777778, \"#fb9f3a\"], [0.8888888888888888, \"#fdca26\"], [1.0, \"#f0f921\"]], \"type\": \"histogram2d\"}], \"histogram2dcontour\": [{\"colorbar\": {\"outlinewidth\": 0, \"ticks\": \"\"}, \"colorscale\": [[0.0, \"#0d0887\"], [0.1111111111111111, \"#46039f\"], [0.2222222222222222, \"#7201a8\"], [0.3333333333333333, \"#9c179e\"], [0.4444444444444444, \"#bd3786\"], [0.5555555555555556, \"#d8576b\"], [0.6666666666666666, \"#ed7953\"], [0.7777777777777778, \"#fb9f3a\"], [0.8888888888888888, \"#fdca26\"], [1.0, \"#f0f921\"]], \"type\": \"histogram2dcontour\"}], \"mesh3d\": [{\"colorbar\": {\"outlinewidth\": 0, \"ticks\": \"\"}, \"type\": \"mesh3d\"}], \"parcoords\": [{\"line\": {\"colorbar\": {\"outlinewidth\": 0, \"ticks\": \"\"}}, \"type\": \"parcoords\"}], \"pie\": [{\"automargin\": true, \"type\": \"pie\"}], \"scatter\": [{\"marker\": {\"colorbar\": {\"outlinewidth\": 0, \"ticks\": \"\"}}, \"type\": \"scatter\"}], \"scatter3d\": [{\"line\": {\"colorbar\": {\"outlinewidth\": 0, \"ticks\": \"\"}}, \"marker\": {\"colorbar\": {\"outlinewidth\": 0, \"ticks\": \"\"}}, \"type\": \"scatter3d\"}], \"scattercarpet\": [{\"marker\": {\"colorbar\": {\"outlinewidth\": 0, \"ticks\": \"\"}}, \"type\": \"scattercarpet\"}], \"scattergeo\": [{\"marker\": {\"colorbar\": {\"outlinewidth\": 0, \"ticks\": \"\"}}, \"type\": \"scattergeo\"}], \"scattergl\": [{\"marker\": {\"colorbar\": {\"outlinewidth\": 0, \"ticks\": \"\"}}, \"type\": \"scattergl\"}], \"scattermapbox\": [{\"marker\": {\"colorbar\": {\"outlinewidth\": 0, \"ticks\": \"\"}}, \"type\": \"scattermapbox\"}], \"scatterpolar\": [{\"marker\": {\"colorbar\": {\"outlinewidth\": 0, \"ticks\": \"\"}}, \"type\": \"scatterpolar\"}], \"scatterpolargl\": [{\"marker\": {\"colorbar\": {\"outlinewidth\": 0, \"ticks\": \"\"}}, \"type\": \"scatterpolargl\"}], \"scatterternary\": [{\"marker\": {\"colorbar\": {\"outlinewidth\": 0, \"ticks\": \"\"}}, \"type\": \"scatterternary\"}], \"surface\": [{\"colorbar\": {\"outlinewidth\": 0, \"ticks\": \"\"}, \"colorscale\": [[0.0, \"#0d0887\"], [0.1111111111111111, \"#46039f\"], [0.2222222222222222, \"#7201a8\"], [0.3333333333333333, \"#9c179e\"], [0.4444444444444444, \"#bd3786\"], [0.5555555555555556, \"#d8576b\"], [0.6666666666666666, \"#ed7953\"], [0.7777777777777778, \"#fb9f3a\"], [0.8888888888888888, \"#fdca26\"], [1.0, \"#f0f921\"]], \"type\": \"surface\"}], \"table\": [{\"cells\": {\"fill\": {\"color\": \"#EBF0F8\"}, \"line\": {\"color\": \"white\"}}, \"header\": {\"fill\": {\"color\": \"#C8D4E3\"}, \"line\": {\"color\": \"white\"}}, \"type\": \"table\"}]}, \"layout\": {\"annotationdefaults\": {\"arrowcolor\": \"#2a3f5f\", \"arrowhead\": 0, \"arrowwidth\": 1}, \"coloraxis\": {\"colorbar\": {\"outlinewidth\": 0, \"ticks\": \"\"}}, \"colorscale\": {\"diverging\": [[0, \"#8e0152\"], [0.1, \"#c51b7d\"], [0.2, \"#de77ae\"], [0.3, \"#f1b6da\"], [0.4, \"#fde0ef\"], [0.5, \"#f7f7f7\"], [0.6, \"#e6f5d0\"], [0.7, \"#b8e186\"], [0.8, \"#7fbc41\"], [0.9, \"#4d9221\"], [1, \"#276419\"]], \"sequential\": [[0.0, \"#0d0887\"], [0.1111111111111111, \"#46039f\"], [0.2222222222222222, \"#7201a8\"], [0.3333333333333333, \"#9c179e\"], [0.4444444444444444, \"#bd3786\"], [0.5555555555555556, \"#d8576b\"], [0.6666666666666666, \"#ed7953\"], [0.7777777777777778, \"#fb9f3a\"], [0.8888888888888888, \"#fdca26\"], [1.0, \"#f0f921\"]], \"sequentialminus\": [[0.0, \"#0d0887\"], [0.1111111111111111, \"#46039f\"], [0.2222222222222222, \"#7201a8\"], [0.3333333333333333, \"#9c179e\"], [0.4444444444444444, \"#bd3786\"], [0.5555555555555556, \"#d8576b\"], [0.6666666666666666, \"#ed7953\"], [0.7777777777777778, \"#fb9f3a\"], [0.8888888888888888, \"#fdca26\"], [1.0, \"#f0f921\"]]}, \"colorway\": [\"#636efa\", \"#EF553B\", \"#00cc96\", \"#ab63fa\", \"#FFA15A\", \"#19d3f3\", \"#FF6692\", \"#B6E880\", \"#FF97FF\", \"#FECB52\"], \"font\": {\"color\": \"#2a3f5f\"}, \"geo\": {\"bgcolor\": \"white\", \"lakecolor\": \"white\", \"landcolor\": \"#E5ECF6\", \"showlakes\": true, \"showland\": true, \"subunitcolor\": \"white\"}, \"hoverlabel\": {\"align\": \"left\"}, \"hovermode\": \"closest\", \"mapbox\": {\"style\": \"light\"}, \"paper_bgcolor\": \"white\", \"plot_bgcolor\": \"#E5ECF6\", \"polar\": {\"angularaxis\": {\"gridcolor\": \"white\", \"linecolor\": \"white\", \"ticks\": \"\"}, \"bgcolor\": \"#E5ECF6\", \"radialaxis\": {\"gridcolor\": \"white\", \"linecolor\": \"white\", \"ticks\": \"\"}}, \"scene\": {\"xaxis\": {\"backgroundcolor\": \"#E5ECF6\", \"gridcolor\": \"white\", \"gridwidth\": 2, \"linecolor\": \"white\", \"showbackground\": true, \"ticks\": \"\", \"zerolinecolor\": \"white\"}, \"yaxis\": {\"backgroundcolor\": \"#E5ECF6\", \"gridcolor\": \"white\", \"gridwidth\": 2, \"linecolor\": \"white\", \"showbackground\": true, \"ticks\": \"\", \"zerolinecolor\": \"white\"}, \"zaxis\": {\"backgroundcolor\": \"#E5ECF6\", \"gridcolor\": \"white\", \"gridwidth\": 2, \"linecolor\": \"white\", \"showbackground\": true, \"ticks\": \"\", \"zerolinecolor\": \"white\"}}, \"shapedefaults\": {\"line\": {\"color\": \"#2a3f5f\"}}, \"ternary\": {\"aaxis\": {\"gridcolor\": \"white\", \"linecolor\": \"white\", \"ticks\": \"\"}, \"baxis\": {\"gridcolor\": \"white\", \"linecolor\": \"white\", \"ticks\": \"\"}, \"bgcolor\": \"#E5ECF6\", \"caxis\": {\"gridcolor\": \"white\", \"linecolor\": \"white\", \"ticks\": \"\"}}, \"title\": {\"x\": 0.05}, \"xaxis\": {\"automargin\": true, \"gridcolor\": \"white\", \"linecolor\": \"white\", \"ticks\": \"\", \"title\": {\"standoff\": 15}, \"zerolinecolor\": \"white\", \"zerolinewidth\": 2}, \"yaxis\": {\"automargin\": true, \"gridcolor\": \"white\", \"linecolor\": \"white\", \"ticks\": \"\", \"title\": {\"standoff\": 15}, \"zerolinecolor\": \"white\", \"zerolinewidth\": 2}}}, \"xaxis\": {\"anchor\": \"y\", \"domain\": [0.0, 1.0], \"title\": {\"text\": \"x\"}}, \"yaxis\": {\"anchor\": \"x\", \"domain\": [0.0, 1.0], \"title\": {\"text\": \"y\"}}},\n",
              "                        {\"responsive\": true}\n",
              "                    ).then(function(){\n",
              "                            \n",
              "var gd = document.getElementById('e4dd5b6e-ef73-4217-89e8-5c4e62e525ec');\n",
              "var x = new MutationObserver(function (mutations, observer) {{\n",
              "        var display = window.getComputedStyle(gd).display;\n",
              "        if (!display || display === 'none') {{\n",
              "            console.log([gd, 'removed!']);\n",
              "            Plotly.purge(gd);\n",
              "            observer.disconnect();\n",
              "        }}\n",
              "}});\n",
              "\n",
              "// Listen for the removal of the full notebook cells\n",
              "var notebookContainer = gd.closest('#notebook-container');\n",
              "if (notebookContainer) {{\n",
              "    x.observe(notebookContainer, {childList: true});\n",
              "}}\n",
              "\n",
              "// Listen for the clearing of the current output cell\n",
              "var outputEl = gd.closest('.output');\n",
              "if (outputEl) {{\n",
              "    x.observe(outputEl, {childList: true});\n",
              "}}\n",
              "\n",
              "                        })\n",
              "                };\n",
              "                \n",
              "            </script>\n",
              "        </div>\n",
              "</body>\n",
              "</html>"
            ]
          },
          "metadata": {
            "tags": []
          }
        }
      ]
    },
    {
      "cell_type": "markdown",
      "metadata": {
        "id": "CulqfyfB0nU5"
      },
      "source": [
        "Hier kann man noch mehr mit Wort-Einbettungen herumspielen: https://projector.tensorflow.org/"
      ]
    },
    {
      "cell_type": "markdown",
      "metadata": {
        "id": "wVWQITrgpOLF"
      },
      "source": [
        "### Analogien im Nachbarschaftsraum\n",
        "\n",
        "Dank der Vektorrepräsentation eines Word2Vec-Modells lässt sich auch leicht nach analogen Verwandtschaftsbeziehungen suchen. Z.B. können wir folgende Aufgabe stellen:\n",
        "\n",
        "`berlin` verhält sich zu `germany` wie `???` zu `spain`\n",
        "\n",
        "Die besten Kandidaten für die Lösung dieser Aufgabe können wir heraussuchen, indem wir uns im Vektorraum zu einem entsprechenden Punkt bewegen (`berlin - germany + spain`) und dort die nahesten Begriffe identifizieren: "
      ]
    },
    {
      "cell_type": "code",
      "metadata": {
        "id": "XWkCHwbX6ElZ",
        "colab": {
          "base_uri": "https://localhost:8080/",
          "height": 34
        },
        "outputId": "fd3f1111-206f-4534-ece1-56cb538cd469"
      },
      "source": [
        "model.wv.most_similar(positive=['berlin', 'spain'], negative=['germany'], topn=1)"
      ],
      "execution_count": null,
      "outputs": [
        {
          "output_type": "execute_result",
          "data": {
            "text/plain": [
              "[('madrid', 0.6979373693466187)]"
            ]
          },
          "metadata": {
            "tags": []
          },
          "execution_count": 15
        }
      ]
    },
    {
      "cell_type": "code",
      "metadata": {
        "id": "5MpCWK-e0NE_",
        "colab": {
          "base_uri": "https://localhost:8080/",
          "height": 34
        },
        "outputId": "4ac98dc9-8314-44ea-dc80-b8fce0c75bb5"
      },
      "source": [
        "model.wv.most_similar(positive=['wismar', 'spain'], negative=['germany'], topn=1)"
      ],
      "execution_count": null,
      "outputs": [
        {
          "output_type": "execute_result",
          "data": {
            "text/plain": [
              "[('cádiz', 0.524493932723999)]"
            ]
          },
          "metadata": {
            "tags": []
          },
          "execution_count": 16
        }
      ]
    },
    {
      "cell_type": "code",
      "metadata": {
        "id": "vGm2nzKOu9l6",
        "colab": {
          "base_uri": "https://localhost:8080/",
          "height": 34
        },
        "outputId": "64c862eb-b247-41bf-e3c0-8f644ee92931"
      },
      "source": [
        "model.wv.most_similar(positive=['beer', 'italy'], negative=['germany'], topn=1)"
      ],
      "execution_count": null,
      "outputs": [
        {
          "output_type": "execute_result",
          "data": {
            "text/plain": [
              "[('wine', 0.5321523547172546)]"
            ]
          },
          "metadata": {
            "tags": []
          },
          "execution_count": 17
        }
      ]
    },
    {
      "cell_type": "code",
      "metadata": {
        "id": "-OSz3WiA1RTk",
        "colab": {
          "base_uri": "https://localhost:8080/",
          "height": 34
        },
        "outputId": "f783ede2-e412-4f26-d4e0-581dae84579c"
      },
      "source": [
        "model.wv.most_similar(positive=['beer', 'russia'], negative=['germany'], topn=1)"
      ],
      "execution_count": null,
      "outputs": [
        {
          "output_type": "execute_result",
          "data": {
            "text/plain": [
              "[('vodka', 0.5345780849456787)]"
            ]
          },
          "metadata": {
            "tags": []
          },
          "execution_count": 18
        }
      ]
    },
    {
      "cell_type": "markdown",
      "metadata": {
        "id": "f75ZbzeB_FTS"
      },
      "source": [
        "### 6.0.1 Analogien 1\n",
        "Finden Sie zwei weitere Beispiele für Analogien, die gut funktionieren."
      ]
    },
    {
      "cell_type": "code",
      "metadata": {
        "id": "HKa8bHKpB5T6"
      },
      "source": [
        ""
      ],
      "execution_count": null,
      "outputs": []
    },
    {
      "cell_type": "markdown",
      "metadata": {
        "id": "Pe8h1HT4Ak9S"
      },
      "source": [
        "### 6.0.2 Analogien 2\n",
        "Können Sie zwei Beispiele finden, bei denen dieses Vorgehen nicht funktioniert?"
      ]
    },
    {
      "cell_type": "code",
      "metadata": {
        "id": "Crdohyq9B6Yp"
      },
      "source": [
        ""
      ],
      "execution_count": null,
      "outputs": []
    },
    {
      "cell_type": "markdown",
      "metadata": {
        "id": "DLN0X0F6A3dA"
      },
      "source": [
        "### 6.0.3 Analogien 3\n",
        "Funktionieren auch Analogien mit mehr als zwei positiven Wortvektoren und/oder mehr als einem negativen Wortvektor?"
      ]
    },
    {
      "cell_type": "code",
      "metadata": {
        "id": "Owa-ZFKVB7Up"
      },
      "source": [
        ""
      ],
      "execution_count": null,
      "outputs": []
    },
    {
      "cell_type": "markdown",
      "metadata": {
        "id": "oBRo8vSppcPO"
      },
      "source": [
        "### Visualisierung der Wortverwandtschaften mit PCA"
      ]
    },
    {
      "cell_type": "code",
      "metadata": {
        "id": "hL0lJ6GL6o3L"
      },
      "source": [
        "words_to_vis = [\n",
        "    'germany', 'italy', 'france', 'spain', 'uk', 'poland', 'russia', 'austria',\n",
        "    'berlin', 'rome', 'paris', 'madrid', 'london', 'warsaw', 'moscow', 'vienna', \n",
        "]"
      ],
      "execution_count": null,
      "outputs": []
    },
    {
      "cell_type": "markdown",
      "metadata": {
        "id": "-bCNyEkMpjJX"
      },
      "source": [
        "Wir errechnen zunächst wieder die Wortvektoren der ausgewählten Wörter."
      ]
    },
    {
      "cell_type": "code",
      "metadata": {
        "id": "FikqqY_7v1Vj"
      },
      "source": [
        "vectors = [model.wv.word_vec(word, use_norm=True) for word in words_to_vis]"
      ],
      "execution_count": null,
      "outputs": []
    },
    {
      "cell_type": "markdown",
      "metadata": {
        "id": "ipJ1MOQ3pvZ0"
      },
      "source": [
        "Nun visualisieren wir diese wir in einem 2D-Raum. Anders als zuvor verwenden wir nun jedoch die Methode `PCA`, denn im Gegensatz zu TSNE versucht PCA auch Beziehungen von weit voneinander entfernten Punkten mit abzubilden. Bei wenigen Punkte ist das vorteilhaft, jedoch geht dieser Vorteil bei vielen Punkten schnell verloren, da deren komplexe Nachbarschaftsbeziehungen im hochdimensionalen Raum nicht adäquat in 2D abgebildet werden können."
      ]
    },
    {
      "cell_type": "code",
      "metadata": {
        "id": "ihK8vVqMw8Fp"
      },
      "source": [
        "from sklearn.decomposition import PCA\n",
        "import plotly.express as px\n",
        "import pandas as pd"
      ],
      "execution_count": null,
      "outputs": []
    },
    {
      "cell_type": "code",
      "metadata": {
        "id": "H_2q6bWDv2XY"
      },
      "source": [
        "pca = PCA(n_components=2)\n",
        "vectors_2D = pca.fit_transform(vectors)"
      ],
      "execution_count": null,
      "outputs": []
    },
    {
      "cell_type": "code",
      "metadata": {
        "id": "viQDxmP0weWH",
        "colab": {
          "base_uri": "https://localhost:8080/",
          "height": 542
        },
        "outputId": "04faa56e-34b9-483c-df36-3b5638b0d12a"
      },
      "source": [
        "to_plot = pd.DataFrame(vectors_2D, columns=['x', 'y'])\n",
        "to_plot['labels'] = words_to_vis\n",
        "\n",
        "px.scatter(to_plot, x='x', y='y', hover_name='labels')"
      ],
      "execution_count": null,
      "outputs": [
        {
          "output_type": "display_data",
          "data": {
            "text/html": [
              "<html>\n",
              "<head><meta charset=\"utf-8\" /></head>\n",
              "<body>\n",
              "    <div>\n",
              "            <script src=\"https://cdnjs.cloudflare.com/ajax/libs/mathjax/2.7.5/MathJax.js?config=TeX-AMS-MML_SVG\"></script><script type=\"text/javascript\">if (window.MathJax) {MathJax.Hub.Config({SVG: {font: \"STIX-Web\"}});}</script>\n",
              "                <script type=\"text/javascript\">window.PlotlyConfig = {MathJaxConfig: 'local'};</script>\n",
              "        <script src=\"https://cdn.plot.ly/plotly-latest.min.js\"></script>    \n",
              "            <div id=\"ea4b35cc-4f78-402f-9f0b-c49ecb75fa14\" class=\"plotly-graph-div\" style=\"height:525px; width:100%;\"></div>\n",
              "            <script type=\"text/javascript\">\n",
              "                \n",
              "                    window.PLOTLYENV=window.PLOTLYENV || {};\n",
              "                    \n",
              "                if (document.getElementById(\"ea4b35cc-4f78-402f-9f0b-c49ecb75fa14\")) {\n",
              "                    Plotly.newPlot(\n",
              "                        'ea4b35cc-4f78-402f-9f0b-c49ecb75fa14',\n",
              "                        [{\"hoverlabel\": {\"namelength\": 0}, \"hovertemplate\": \"<b>%{hovertext}</b><br><br>x=%{x}<br>y=%{y}\", \"hovertext\": [\"germany\", \"italy\", \"france\", \"spain\", \"uk\", \"poland\", \"russia\", \"austria\", \"berlin\", \"rome\", \"paris\", \"madrid\", \"london\", \"warsaw\", \"moscow\", \"vienna\"], \"legendgroup\": \"\", \"marker\": {\"color\": \"#636efa\", \"symbol\": \"circle\"}, \"mode\": \"markers\", \"name\": \"\", \"showlegend\": false, \"type\": \"scatter\", \"x\": [0.31372196745050596, 0.44482488081969923, 0.35552036326781716, 0.4351306183720923, 0.1909251688373257, 0.308574864977162, 0.2438341713943082, 0.3384253560558424, -0.37405095521765647, -0.23108487933643743, -0.3511295700555941, -0.20038188973834117, -0.4243745332312698, -0.33862382127946383, -0.3250041392310369, -0.3863076030849533], \"xaxis\": \"x\", \"y\": [0.19373790901445792, -0.16650829533816136, -0.2540286254227329, -0.29912566463435425, -0.36953810039433654, 0.4659872136212799, 0.33363005456171213, 0.23931797837613134, 0.19550206423957478, -0.20352203072771088, -0.3080904686355913, -0.3811555717991626, -0.36674691942423376, 0.4592060238679782, 0.2902992427106616, 0.17103518998448777], \"yaxis\": \"y\"}],\n",
              "                        {\"legend\": {\"tracegroupgap\": 0}, \"margin\": {\"t\": 60}, \"template\": {\"data\": {\"bar\": [{\"error_x\": {\"color\": \"#2a3f5f\"}, \"error_y\": {\"color\": \"#2a3f5f\"}, \"marker\": {\"line\": {\"color\": \"#E5ECF6\", \"width\": 0.5}}, \"type\": \"bar\"}], \"barpolar\": [{\"marker\": {\"line\": {\"color\": \"#E5ECF6\", \"width\": 0.5}}, \"type\": \"barpolar\"}], \"carpet\": [{\"aaxis\": {\"endlinecolor\": \"#2a3f5f\", \"gridcolor\": \"white\", \"linecolor\": \"white\", \"minorgridcolor\": \"white\", \"startlinecolor\": \"#2a3f5f\"}, \"baxis\": {\"endlinecolor\": \"#2a3f5f\", \"gridcolor\": \"white\", \"linecolor\": \"white\", \"minorgridcolor\": \"white\", \"startlinecolor\": \"#2a3f5f\"}, \"type\": \"carpet\"}], \"choropleth\": [{\"colorbar\": {\"outlinewidth\": 0, \"ticks\": \"\"}, \"type\": \"choropleth\"}], \"contour\": [{\"colorbar\": {\"outlinewidth\": 0, \"ticks\": \"\"}, \"colorscale\": [[0.0, \"#0d0887\"], [0.1111111111111111, \"#46039f\"], [0.2222222222222222, \"#7201a8\"], [0.3333333333333333, \"#9c179e\"], [0.4444444444444444, \"#bd3786\"], [0.5555555555555556, \"#d8576b\"], [0.6666666666666666, \"#ed7953\"], [0.7777777777777778, \"#fb9f3a\"], [0.8888888888888888, \"#fdca26\"], [1.0, \"#f0f921\"]], \"type\": \"contour\"}], \"contourcarpet\": [{\"colorbar\": {\"outlinewidth\": 0, \"ticks\": \"\"}, \"type\": \"contourcarpet\"}], \"heatmap\": [{\"colorbar\": {\"outlinewidth\": 0, \"ticks\": \"\"}, \"colorscale\": [[0.0, \"#0d0887\"], [0.1111111111111111, \"#46039f\"], [0.2222222222222222, \"#7201a8\"], [0.3333333333333333, \"#9c179e\"], [0.4444444444444444, \"#bd3786\"], [0.5555555555555556, \"#d8576b\"], [0.6666666666666666, \"#ed7953\"], [0.7777777777777778, \"#fb9f3a\"], [0.8888888888888888, \"#fdca26\"], [1.0, \"#f0f921\"]], \"type\": \"heatmap\"}], \"heatmapgl\": [{\"colorbar\": {\"outlinewidth\": 0, \"ticks\": \"\"}, \"colorscale\": [[0.0, \"#0d0887\"], [0.1111111111111111, \"#46039f\"], [0.2222222222222222, \"#7201a8\"], [0.3333333333333333, \"#9c179e\"], [0.4444444444444444, \"#bd3786\"], [0.5555555555555556, \"#d8576b\"], [0.6666666666666666, \"#ed7953\"], [0.7777777777777778, \"#fb9f3a\"], [0.8888888888888888, \"#fdca26\"], [1.0, \"#f0f921\"]], \"type\": \"heatmapgl\"}], \"histogram\": [{\"marker\": {\"colorbar\": {\"outlinewidth\": 0, \"ticks\": \"\"}}, \"type\": \"histogram\"}], \"histogram2d\": [{\"colorbar\": {\"outlinewidth\": 0, \"ticks\": \"\"}, \"colorscale\": [[0.0, \"#0d0887\"], [0.1111111111111111, \"#46039f\"], [0.2222222222222222, \"#7201a8\"], [0.3333333333333333, \"#9c179e\"], [0.4444444444444444, \"#bd3786\"], [0.5555555555555556, \"#d8576b\"], [0.6666666666666666, \"#ed7953\"], [0.7777777777777778, \"#fb9f3a\"], [0.8888888888888888, \"#fdca26\"], [1.0, \"#f0f921\"]], \"type\": \"histogram2d\"}], \"histogram2dcontour\": [{\"colorbar\": {\"outlinewidth\": 0, \"ticks\": \"\"}, \"colorscale\": [[0.0, \"#0d0887\"], [0.1111111111111111, \"#46039f\"], [0.2222222222222222, \"#7201a8\"], [0.3333333333333333, \"#9c179e\"], [0.4444444444444444, \"#bd3786\"], [0.5555555555555556, \"#d8576b\"], [0.6666666666666666, \"#ed7953\"], [0.7777777777777778, \"#fb9f3a\"], [0.8888888888888888, \"#fdca26\"], [1.0, \"#f0f921\"]], \"type\": \"histogram2dcontour\"}], \"mesh3d\": [{\"colorbar\": {\"outlinewidth\": 0, \"ticks\": \"\"}, \"type\": \"mesh3d\"}], \"parcoords\": [{\"line\": {\"colorbar\": {\"outlinewidth\": 0, \"ticks\": \"\"}}, \"type\": \"parcoords\"}], \"pie\": [{\"automargin\": true, \"type\": \"pie\"}], \"scatter\": [{\"marker\": {\"colorbar\": {\"outlinewidth\": 0, \"ticks\": \"\"}}, \"type\": \"scatter\"}], \"scatter3d\": [{\"line\": {\"colorbar\": {\"outlinewidth\": 0, \"ticks\": \"\"}}, \"marker\": {\"colorbar\": {\"outlinewidth\": 0, \"ticks\": \"\"}}, \"type\": \"scatter3d\"}], \"scattercarpet\": [{\"marker\": {\"colorbar\": {\"outlinewidth\": 0, \"ticks\": \"\"}}, \"type\": \"scattercarpet\"}], \"scattergeo\": [{\"marker\": {\"colorbar\": {\"outlinewidth\": 0, \"ticks\": \"\"}}, \"type\": \"scattergeo\"}], \"scattergl\": [{\"marker\": {\"colorbar\": {\"outlinewidth\": 0, \"ticks\": \"\"}}, \"type\": \"scattergl\"}], \"scattermapbox\": [{\"marker\": {\"colorbar\": {\"outlinewidth\": 0, \"ticks\": \"\"}}, \"type\": \"scattermapbox\"}], \"scatterpolar\": [{\"marker\": {\"colorbar\": {\"outlinewidth\": 0, \"ticks\": \"\"}}, \"type\": \"scatterpolar\"}], \"scatterpolargl\": [{\"marker\": {\"colorbar\": {\"outlinewidth\": 0, \"ticks\": \"\"}}, \"type\": \"scatterpolargl\"}], \"scatterternary\": [{\"marker\": {\"colorbar\": {\"outlinewidth\": 0, \"ticks\": \"\"}}, \"type\": \"scatterternary\"}], \"surface\": [{\"colorbar\": {\"outlinewidth\": 0, \"ticks\": \"\"}, \"colorscale\": [[0.0, \"#0d0887\"], [0.1111111111111111, \"#46039f\"], [0.2222222222222222, \"#7201a8\"], [0.3333333333333333, \"#9c179e\"], [0.4444444444444444, \"#bd3786\"], [0.5555555555555556, \"#d8576b\"], [0.6666666666666666, \"#ed7953\"], [0.7777777777777778, \"#fb9f3a\"], [0.8888888888888888, \"#fdca26\"], [1.0, \"#f0f921\"]], \"type\": \"surface\"}], \"table\": [{\"cells\": {\"fill\": {\"color\": \"#EBF0F8\"}, \"line\": {\"color\": \"white\"}}, \"header\": {\"fill\": {\"color\": \"#C8D4E3\"}, \"line\": {\"color\": \"white\"}}, \"type\": \"table\"}]}, \"layout\": {\"annotationdefaults\": {\"arrowcolor\": \"#2a3f5f\", \"arrowhead\": 0, \"arrowwidth\": 1}, \"coloraxis\": {\"colorbar\": {\"outlinewidth\": 0, \"ticks\": \"\"}}, \"colorscale\": {\"diverging\": [[0, \"#8e0152\"], [0.1, \"#c51b7d\"], [0.2, \"#de77ae\"], [0.3, \"#f1b6da\"], [0.4, \"#fde0ef\"], [0.5, \"#f7f7f7\"], [0.6, \"#e6f5d0\"], [0.7, \"#b8e186\"], [0.8, \"#7fbc41\"], [0.9, \"#4d9221\"], [1, \"#276419\"]], \"sequential\": [[0.0, \"#0d0887\"], [0.1111111111111111, \"#46039f\"], [0.2222222222222222, \"#7201a8\"], [0.3333333333333333, \"#9c179e\"], [0.4444444444444444, \"#bd3786\"], [0.5555555555555556, \"#d8576b\"], [0.6666666666666666, \"#ed7953\"], [0.7777777777777778, \"#fb9f3a\"], [0.8888888888888888, \"#fdca26\"], [1.0, \"#f0f921\"]], \"sequentialminus\": [[0.0, \"#0d0887\"], [0.1111111111111111, \"#46039f\"], [0.2222222222222222, \"#7201a8\"], [0.3333333333333333, \"#9c179e\"], [0.4444444444444444, \"#bd3786\"], [0.5555555555555556, \"#d8576b\"], [0.6666666666666666, \"#ed7953\"], [0.7777777777777778, \"#fb9f3a\"], [0.8888888888888888, \"#fdca26\"], [1.0, \"#f0f921\"]]}, \"colorway\": [\"#636efa\", \"#EF553B\", \"#00cc96\", \"#ab63fa\", \"#FFA15A\", \"#19d3f3\", \"#FF6692\", \"#B6E880\", \"#FF97FF\", \"#FECB52\"], \"font\": {\"color\": \"#2a3f5f\"}, \"geo\": {\"bgcolor\": \"white\", \"lakecolor\": \"white\", \"landcolor\": \"#E5ECF6\", \"showlakes\": true, \"showland\": true, \"subunitcolor\": \"white\"}, \"hoverlabel\": {\"align\": \"left\"}, \"hovermode\": \"closest\", \"mapbox\": {\"style\": \"light\"}, \"paper_bgcolor\": \"white\", \"plot_bgcolor\": \"#E5ECF6\", \"polar\": {\"angularaxis\": {\"gridcolor\": \"white\", \"linecolor\": \"white\", \"ticks\": \"\"}, \"bgcolor\": \"#E5ECF6\", \"radialaxis\": {\"gridcolor\": \"white\", \"linecolor\": \"white\", \"ticks\": \"\"}}, \"scene\": {\"xaxis\": {\"backgroundcolor\": \"#E5ECF6\", \"gridcolor\": \"white\", \"gridwidth\": 2, \"linecolor\": \"white\", \"showbackground\": true, \"ticks\": \"\", \"zerolinecolor\": \"white\"}, \"yaxis\": {\"backgroundcolor\": \"#E5ECF6\", \"gridcolor\": \"white\", \"gridwidth\": 2, \"linecolor\": \"white\", \"showbackground\": true, \"ticks\": \"\", \"zerolinecolor\": \"white\"}, \"zaxis\": {\"backgroundcolor\": \"#E5ECF6\", \"gridcolor\": \"white\", \"gridwidth\": 2, \"linecolor\": \"white\", \"showbackground\": true, \"ticks\": \"\", \"zerolinecolor\": \"white\"}}, \"shapedefaults\": {\"line\": {\"color\": \"#2a3f5f\"}}, \"ternary\": {\"aaxis\": {\"gridcolor\": \"white\", \"linecolor\": \"white\", \"ticks\": \"\"}, \"baxis\": {\"gridcolor\": \"white\", \"linecolor\": \"white\", \"ticks\": \"\"}, \"bgcolor\": \"#E5ECF6\", \"caxis\": {\"gridcolor\": \"white\", \"linecolor\": \"white\", \"ticks\": \"\"}}, \"title\": {\"x\": 0.05}, \"xaxis\": {\"automargin\": true, \"gridcolor\": \"white\", \"linecolor\": \"white\", \"ticks\": \"\", \"title\": {\"standoff\": 15}, \"zerolinecolor\": \"white\", \"zerolinewidth\": 2}, \"yaxis\": {\"automargin\": true, \"gridcolor\": \"white\", \"linecolor\": \"white\", \"ticks\": \"\", \"title\": {\"standoff\": 15}, \"zerolinecolor\": \"white\", \"zerolinewidth\": 2}}}, \"xaxis\": {\"anchor\": \"y\", \"domain\": [0.0, 1.0], \"title\": {\"text\": \"x\"}}, \"yaxis\": {\"anchor\": \"x\", \"domain\": [0.0, 1.0], \"title\": {\"text\": \"y\"}}},\n",
              "                        {\"responsive\": true}\n",
              "                    ).then(function(){\n",
              "                            \n",
              "var gd = document.getElementById('ea4b35cc-4f78-402f-9f0b-c49ecb75fa14');\n",
              "var x = new MutationObserver(function (mutations, observer) {{\n",
              "        var display = window.getComputedStyle(gd).display;\n",
              "        if (!display || display === 'none') {{\n",
              "            console.log([gd, 'removed!']);\n",
              "            Plotly.purge(gd);\n",
              "            observer.disconnect();\n",
              "        }}\n",
              "}});\n",
              "\n",
              "// Listen for the removal of the full notebook cells\n",
              "var notebookContainer = gd.closest('#notebook-container');\n",
              "if (notebookContainer) {{\n",
              "    x.observe(notebookContainer, {childList: true});\n",
              "}}\n",
              "\n",
              "// Listen for the clearing of the current output cell\n",
              "var outputEl = gd.closest('.output');\n",
              "if (outputEl) {{\n",
              "    x.observe(outputEl, {childList: true});\n",
              "}}\n",
              "\n",
              "                        })\n",
              "                };\n",
              "                \n",
              "            </script>\n",
              "        </div>\n",
              "</body>\n",
              "</html>"
            ]
          },
          "metadata": {
            "tags": []
          }
        }
      ]
    },
    {
      "cell_type": "markdown",
      "metadata": {
        "id": "CyRiOFrKcLnc"
      },
      "source": [
        "### 6.0.4 Visualierung anderer Begriffe\n",
        "Ändern sie die Begriffe in der Variable `words_to_vis` und führen Sie alle nachfolgenden Zellen nochmals aus. Sind die visuelle Darstellung der Wordvektoren und ihre Nachbarschaftsbeziehungen intuitiv nachvollziehbar? Können Sie Eigenschaften identifizieren, die im Zusammenhang mit der X- und/oder Y-Achse stehen? "
      ]
    },
    {
      "cell_type": "markdown",
      "metadata": {
        "id": "frwKhubD2dtz"
      },
      "source": [
        "![insitubytes](https://drive.google.com/uc?id=1EAJK7AI9tcZRo3VvYq7vEKGxk7vmK2Ff)"
      ]
    }
  ]
}